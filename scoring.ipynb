{
 "cells": [
  {
   "cell_type": "markdown",
   "id": "ed1ca7e7",
   "metadata": {},
   "source": [
    "# Projet 7 : Implémenter un modèle de scoring"
   ]
  },
  {
   "cell_type": "code",
   "execution_count": 1,
   "id": "c4efcfab",
   "metadata": {},
   "outputs": [
    {
     "name": "stdout",
     "output_type": "stream",
     "text": [
      "Requirement already satisfied: lightgbm in ./OC_P7/.venv/lib/python3.10/site-packages (3.3.2)\n",
      "Requirement already satisfied: wheel in ./OC_P7/.venv/lib/python3.10/site-packages (from lightgbm) (0.37.1)\n",
      "Requirement already satisfied: scipy in ./OC_P7/.venv/lib/python3.10/site-packages (from lightgbm) (1.8.1)\n",
      "Requirement already satisfied: numpy in ./OC_P7/.venv/lib/python3.10/site-packages (from lightgbm) (1.23.0)\n",
      "Requirement already satisfied: scikit-learn!=0.22.0 in ./OC_P7/.venv/lib/python3.10/site-packages (from lightgbm) (1.1.1)\n",
      "Requirement already satisfied: joblib>=1.0.0 in ./OC_P7/.venv/lib/python3.10/site-packages (from scikit-learn!=0.22.0->lightgbm) (1.1.0)\n",
      "Requirement already satisfied: threadpoolctl>=2.0.0 in ./OC_P7/.venv/lib/python3.10/site-packages (from scikit-learn!=0.22.0->lightgbm) (3.1.0)\n",
      "\u001b[33mWARNING: You are using pip version 22.0.3; however, version 22.1.2 is available.\n",
      "You should consider upgrading via the '/Users/nihal/Documents/Openclassrooms/Projets/P7/OC_P7/.venv/bin/python -m pip install --upgrade pip' command.\u001b[0m\u001b[33m\n",
      "\u001b[0mNote: you may need to restart the kernel to use updated packages.\n"
     ]
    }
   ],
   "source": [
    "pip install lightgbm"
   ]
  },
  {
   "cell_type": "code",
   "execution_count": 2,
   "id": "d17cb1a2",
   "metadata": {},
   "outputs": [],
   "source": [
    "import numpy as np\n",
    "import pandas as pd\n",
    "import gc\n",
    "import time\n",
    "from contextlib import contextmanager\n",
    "from lightgbm import LGBMClassifier\n",
    "from sklearn.metrics import roc_auc_score, roc_curve, confusion_matrix, plot_roc_curve\n",
    "from sklearn.model_selection import KFold, StratifiedKFold\n",
    "import matplotlib.pyplot as plt\n",
    "import seaborn as sns\n",
    "from sklearn import datasets, preprocessing, model_selection, ensemble, pipeline\n",
    "import mlflow.pyfunc\n",
    "import warnings\n",
    "import math \n",
    "warnings.simplefilter(action='ignore', category=FutureWarning)\n",
    " "
   ]
  },
  {
   "cell_type": "markdown",
   "id": "1b436e2f",
   "metadata": {},
   "source": [
    "## Lecture et préparation des données "
   ]
  },
  {
   "cell_type": "code",
   "execution_count": 3,
   "id": "9e8f2760",
   "metadata": {},
   "outputs": [
    {
     "name": "stdout",
     "output_type": "stream",
     "text": [
      "Train samples: 307511, test samples: 48744\n",
      "Bureau df shape: (305811, 116)\n",
      "Process bureau and bureau_balance - done in 10s\n",
      "Previous applications df shape: (338857, 249)\n",
      "Process previous_applications - done in 9s\n",
      "Pos-cash balance df shape: (337252, 18)\n",
      "Process POS-CASH balance - done in 5s\n",
      "Installments payments df shape: (339587, 26)\n",
      "Process installments payments - done in 16s\n",
      "Credit card balance df shape: (103558, 141)\n",
      "Process credit card balance - done in 10s\n"
     ]
    }
   ],
   "source": [
    "# HOME CREDIT DEFAULT RISK COMPETITION\n",
    "# Most features are created by applying min, max, mean, sum and var functions to grouped tables. \n",
    "# Little feature selection is done and overfitting might be a problem since many features are related.\n",
    "# The following key ideas were used:\n",
    "# - Divide or subtract important features to get rates (like annuity and income)\n",
    "# - In Bureau Data: create specific features for Active credits and Closed credits\n",
    "# - In Previous Applications: create specific features for Approved and Refused applications\n",
    "# - Modularity: one function for each table (except bureau_balance and application_test)\n",
    "# - One-hot encoding for categorical features\n",
    "# All tables are joined with the application DF using the SK_ID_CURR key (except bureau_balance).\n",
    "# You can use LightGBM with KFold or Stratified KFold.\n",
    "\n",
    "# Update 16/06/2018:\n",
    "# - Added Payment Rate feature\n",
    "# - Removed index from features\n",
    "# - Use standard KFold CV (not stratified)\n",
    "\n",
    "\n",
    "@contextmanager\n",
    "def timer(title):\n",
    "    t0 = time.time()\n",
    "    yield\n",
    "    print(\"{} - done in {:.0f}s\".format(title, time.time() - t0))\n",
    "\n",
    "# One-hot encoding for categorical columns with get_dummies\n",
    "def one_hot_encoder(df, nan_as_category = True):\n",
    "    original_columns = list(df.columns)\n",
    "    categorical_columns = [col for col in df.columns if df[col].dtype == 'object']\n",
    "    df = pd.get_dummies(df, columns= categorical_columns, dummy_na= nan_as_category)\n",
    "    new_columns = [c for c in df.columns if c not in original_columns]\n",
    "    return df, new_columns\n",
    "\n",
    "# Preprocess application_train.csv and application_test.csv\n",
    "def application_train_test(num_rows = None, nan_as_category = False):\n",
    "    # Read data and merge\n",
    "    df = pd.read_csv('input/application_train.csv', nrows= num_rows)\n",
    "    test_df = pd.read_csv('input/application_test.csv', nrows= num_rows)\n",
    "    print(\"Train samples: {}, test samples: {}\".format(len(df), len(test_df)))\n",
    "    df = df.append(test_df).reset_index()\n",
    "    # Optional: Remove 4 applications with XNA CODE_GENDER (train set)\n",
    "    df = df[df['CODE_GENDER'] != 'XNA']\n",
    "    \n",
    "    # Categorical features with Binary encode (0 or 1; two categories)\n",
    "    for bin_feature in ['CODE_GENDER', 'FLAG_OWN_CAR', 'FLAG_OWN_REALTY']:\n",
    "        df[bin_feature], uniques = pd.factorize(df[bin_feature])\n",
    "    # Categorical features with One-Hot encode\n",
    "    df, cat_cols = one_hot_encoder(df, nan_as_category)\n",
    "    \n",
    "    # NaN values for DAYS_EMPLOYED: 365.243 -> nan\n",
    "    df['DAYS_EMPLOYED'].replace(365243, np.nan, inplace= True)\n",
    "    # Some simple new features (percentages)\n",
    "    df['DAYS_EMPLOYED_PERC'] = df['DAYS_EMPLOYED'] / df['DAYS_BIRTH']\n",
    "    df['INCOME_CREDIT_PERC'] = df['AMT_INCOME_TOTAL'] / df['AMT_CREDIT']\n",
    "    df['INCOME_PER_PERSON'] = df['AMT_INCOME_TOTAL'] / df['CNT_FAM_MEMBERS']\n",
    "    df['ANNUITY_INCOME_PERC'] = df['AMT_ANNUITY'] / df['AMT_INCOME_TOTAL']\n",
    "    df['PAYMENT_RATE'] = df['AMT_ANNUITY'] / df['AMT_CREDIT']\n",
    "    del test_df\n",
    "    gc.collect()\n",
    "    return df\n",
    "\n",
    "# Preprocess bureau.csv and bureau_balance.csv\n",
    "def bureau_and_balance(num_rows = None, nan_as_category = True):\n",
    "    bureau = pd.read_csv('input/bureau.csv', nrows = num_rows)\n",
    "    bb = pd.read_csv('input/bureau_balance.csv', nrows = num_rows)\n",
    "    bb, bb_cat = one_hot_encoder(bb, nan_as_category)\n",
    "    bureau, bureau_cat = one_hot_encoder(bureau, nan_as_category)\n",
    "    \n",
    "    # Bureau balance: Perform aggregations and merge with bureau.csv\n",
    "    bb_aggregations = {'MONTHS_BALANCE': ['min', 'max', 'size']}\n",
    "    for col in bb_cat:\n",
    "        bb_aggregations[col] = ['mean']\n",
    "    bb_agg = bb.groupby('SK_ID_BUREAU').agg(bb_aggregations)\n",
    "    bb_agg.columns = pd.Index([e[0] + \"_\" + e[1].upper() for e in bb_agg.columns.tolist()])\n",
    "    bureau = bureau.join(bb_agg, how='left', on='SK_ID_BUREAU')\n",
    "    bureau.drop(['SK_ID_BUREAU'], axis=1, inplace= True)\n",
    "    del bb, bb_agg\n",
    "    gc.collect()\n",
    "    \n",
    "    # Bureau and bureau_balance numeric features\n",
    "    num_aggregations = {\n",
    "        'DAYS_CREDIT': ['min', 'max', 'mean', 'var'],\n",
    "        'DAYS_CREDIT_ENDDATE': ['min', 'max', 'mean'],\n",
    "        'DAYS_CREDIT_UPDATE': ['mean'],\n",
    "        'CREDIT_DAY_OVERDUE': ['max', 'mean'],\n",
    "        'AMT_CREDIT_MAX_OVERDUE': ['mean'],\n",
    "        'AMT_CREDIT_SUM': ['max', 'mean', 'sum'],\n",
    "        'AMT_CREDIT_SUM_DEBT': ['max', 'mean', 'sum'],\n",
    "        'AMT_CREDIT_SUM_OVERDUE': ['mean'],\n",
    "        'AMT_CREDIT_SUM_LIMIT': ['mean', 'sum'],\n",
    "        'AMT_ANNUITY': ['max', 'mean'],\n",
    "        'CNT_CREDIT_PROLONG': ['sum'],\n",
    "        'MONTHS_BALANCE_MIN': ['min'],\n",
    "        'MONTHS_BALANCE_MAX': ['max'],\n",
    "        'MONTHS_BALANCE_SIZE': ['mean', 'sum']\n",
    "    }\n",
    "    # Bureau and bureau_balance categorical features\n",
    "    cat_aggregations = {}\n",
    "    for cat in bureau_cat: cat_aggregations[cat] = ['mean']\n",
    "    for cat in bb_cat: cat_aggregations[cat + \"_MEAN\"] = ['mean']\n",
    "    \n",
    "    bureau_agg = bureau.groupby('SK_ID_CURR').agg({**num_aggregations, **cat_aggregations})\n",
    "    bureau_agg.columns = pd.Index(['BURO_' + e[0] + \"_\" + e[1].upper() for e in bureau_agg.columns.tolist()])\n",
    "    # Bureau: Active credits - using only numerical aggregations\n",
    "    active = bureau[bureau['CREDIT_ACTIVE_Active'] == 1]\n",
    "    active_agg = active.groupby('SK_ID_CURR').agg(num_aggregations)\n",
    "    active_agg.columns = pd.Index(['ACTIVE_' + e[0] + \"_\" + e[1].upper() for e in active_agg.columns.tolist()])\n",
    "    bureau_agg = bureau_agg.join(active_agg, how='left', on='SK_ID_CURR')\n",
    "    del active, active_agg\n",
    "    gc.collect()\n",
    "    # Bureau: Closed credits - using only numerical aggregations\n",
    "    closed = bureau[bureau['CREDIT_ACTIVE_Closed'] == 1]\n",
    "    closed_agg = closed.groupby('SK_ID_CURR').agg(num_aggregations)\n",
    "    closed_agg.columns = pd.Index(['CLOSED_' + e[0] + \"_\" + e[1].upper() for e in closed_agg.columns.tolist()])\n",
    "    bureau_agg = bureau_agg.join(closed_agg, how='left', on='SK_ID_CURR')\n",
    "    del closed, closed_agg, bureau\n",
    "    gc.collect()\n",
    "    return bureau_agg\n",
    "\n",
    "# Preprocess previous_applications.csv\n",
    "def previous_applications(num_rows = None, nan_as_category = True):\n",
    "    prev = pd.read_csv('input/previous_application.csv', nrows = num_rows)\n",
    "    prev, cat_cols = one_hot_encoder(prev, nan_as_category= True)\n",
    "    # Days 365.243 values -> nan\n",
    "    prev['DAYS_FIRST_DRAWING'].replace(365243, np.nan, inplace= True)\n",
    "    prev['DAYS_FIRST_DUE'].replace(365243, np.nan, inplace= True)\n",
    "    prev['DAYS_LAST_DUE_1ST_VERSION'].replace(365243, np.nan, inplace= True)\n",
    "    prev['DAYS_LAST_DUE'].replace(365243, np.nan, inplace= True)\n",
    "    prev['DAYS_TERMINATION'].replace(365243, np.nan, inplace= True)\n",
    "    # Add feature: value ask / value received percentage\n",
    "    prev['APP_CREDIT_PERC'] = prev['AMT_APPLICATION'] / prev['AMT_CREDIT']\n",
    "    # Previous applications numeric features\n",
    "    num_aggregations = {\n",
    "        'AMT_ANNUITY': ['min', 'max', 'mean'],\n",
    "        'AMT_APPLICATION': ['min', 'max', 'mean'],\n",
    "        'AMT_CREDIT': ['min', 'max', 'mean'],\n",
    "        'APP_CREDIT_PERC': ['min', 'max', 'mean', 'var'],\n",
    "        'AMT_DOWN_PAYMENT': ['min', 'max', 'mean'],\n",
    "        'AMT_GOODS_PRICE': ['min', 'max', 'mean'],\n",
    "        'HOUR_APPR_PROCESS_START': ['min', 'max', 'mean'],\n",
    "        'RATE_DOWN_PAYMENT': ['min', 'max', 'mean'],\n",
    "        'DAYS_DECISION': ['min', 'max', 'mean'],\n",
    "        'CNT_PAYMENT': ['mean', 'sum'],\n",
    "    }\n",
    "    # Previous applications categorical features\n",
    "    cat_aggregations = {}\n",
    "    for cat in cat_cols:\n",
    "        cat_aggregations[cat] = ['mean']\n",
    "    \n",
    "    prev_agg = prev.groupby('SK_ID_CURR').agg({**num_aggregations, **cat_aggregations})\n",
    "    prev_agg.columns = pd.Index(['PREV_' + e[0] + \"_\" + e[1].upper() for e in prev_agg.columns.tolist()])\n",
    "    # Previous Applications: Approved Applications - only numerical features\n",
    "    approved = prev[prev['NAME_CONTRACT_STATUS_Approved'] == 1]\n",
    "    approved_agg = approved.groupby('SK_ID_CURR').agg(num_aggregations)\n",
    "    approved_agg.columns = pd.Index(['APPROVED_' + e[0] + \"_\" + e[1].upper() for e in approved_agg.columns.tolist()])\n",
    "    prev_agg = prev_agg.join(approved_agg, how='left', on='SK_ID_CURR')\n",
    "    # Previous Applications: Refused Applications - only numerical features\n",
    "    refused = prev[prev['NAME_CONTRACT_STATUS_Refused'] == 1]\n",
    "    refused_agg = refused.groupby('SK_ID_CURR').agg(num_aggregations)\n",
    "    refused_agg.columns = pd.Index(['REFUSED_' + e[0] + \"_\" + e[1].upper() for e in refused_agg.columns.tolist()])\n",
    "    prev_agg = prev_agg.join(refused_agg, how='left', on='SK_ID_CURR')\n",
    "    del refused, refused_agg, approved, approved_agg, prev\n",
    "    gc.collect()\n",
    "    return prev_agg\n",
    "\n",
    "# Preprocess POS_CASH_balance.csv\n",
    "def pos_cash(num_rows = None, nan_as_category = True):\n",
    "    pos = pd.read_csv('input/POS_CASH_balance.csv', nrows = num_rows)\n",
    "    pos, cat_cols = one_hot_encoder(pos, nan_as_category= True)\n",
    "    # Features\n",
    "    aggregations = {\n",
    "        'MONTHS_BALANCE': ['max', 'mean', 'size'],\n",
    "        'SK_DPD': ['max', 'mean'],\n",
    "        'SK_DPD_DEF': ['max', 'mean']\n",
    "    }\n",
    "    for cat in cat_cols:\n",
    "        aggregations[cat] = ['mean']\n",
    "    \n",
    "    pos_agg = pos.groupby('SK_ID_CURR').agg(aggregations)\n",
    "    pos_agg.columns = pd.Index(['POS_' + e[0] + \"_\" + e[1].upper() for e in pos_agg.columns.tolist()])\n",
    "    # Count pos cash accounts\n",
    "    pos_agg['POS_COUNT'] = pos.groupby('SK_ID_CURR').size()\n",
    "    del pos\n",
    "    gc.collect()\n",
    "    return pos_agg\n",
    "    \n",
    "# Preprocess installments_payments.csv\n",
    "def installments_payments(num_rows = None, nan_as_category = True):\n",
    "    ins = pd.read_csv('input/installments_payments.csv', nrows = num_rows)\n",
    "    ins, cat_cols = one_hot_encoder(ins, nan_as_category= True)\n",
    "    # Percentage and difference paid in each installment (amount paid and installment value)\n",
    "    ins['PAYMENT_PERC'] = ins['AMT_PAYMENT'] / ins['AMT_INSTALMENT']\n",
    "    ins['PAYMENT_DIFF'] = ins['AMT_INSTALMENT'] - ins['AMT_PAYMENT']\n",
    "    # Days past due and days before due (no negative values)\n",
    "    ins['DPD'] = ins['DAYS_ENTRY_PAYMENT'] - ins['DAYS_INSTALMENT']\n",
    "    ins['DBD'] = ins['DAYS_INSTALMENT'] - ins['DAYS_ENTRY_PAYMENT']\n",
    "    ins['DPD'] = ins['DPD'].apply(lambda x: x if x > 0 else 0)\n",
    "    ins['DBD'] = ins['DBD'].apply(lambda x: x if x > 0 else 0)\n",
    "    # Features: Perform aggregations\n",
    "    aggregations = {\n",
    "        'NUM_INSTALMENT_VERSION': ['nunique'],\n",
    "        'DPD': ['max', 'mean', 'sum'],\n",
    "        'DBD': ['max', 'mean', 'sum'],\n",
    "        'PAYMENT_PERC': ['max', 'mean', 'sum', 'var'],\n",
    "        'PAYMENT_DIFF': ['max', 'mean', 'sum', 'var'],\n",
    "        'AMT_INSTALMENT': ['max', 'mean', 'sum'],\n",
    "        'AMT_PAYMENT': ['min', 'max', 'mean', 'sum'],\n",
    "        'DAYS_ENTRY_PAYMENT': ['max', 'mean', 'sum']\n",
    "    }\n",
    "    for cat in cat_cols:\n",
    "        aggregations[cat] = ['mean']\n",
    "    ins_agg = ins.groupby('SK_ID_CURR').agg(aggregations)\n",
    "    ins_agg.columns = pd.Index(['INSTAL_' + e[0] + \"_\" + e[1].upper() for e in ins_agg.columns.tolist()])\n",
    "    # Count installments accounts\n",
    "    ins_agg['INSTAL_COUNT'] = ins.groupby('SK_ID_CURR').size()\n",
    "    del ins\n",
    "    gc.collect()\n",
    "    return ins_agg\n",
    "\n",
    "# Preprocess credit_card_balance.csv\n",
    "def credit_card_balance(num_rows = None, nan_as_category = True):\n",
    "    cc = pd.read_csv('input/credit_card_balance.csv', nrows = num_rows)\n",
    "    cc, cat_cols = one_hot_encoder(cc, nan_as_category= True)\n",
    "    # General aggregations\n",
    "    cc.drop(['SK_ID_PREV'], axis= 1, inplace = True)\n",
    "    cc_agg = cc.groupby('SK_ID_CURR').agg(['min', 'max', 'mean', 'sum', 'var'])\n",
    "    cc_agg.columns = pd.Index(['CC_' + e[0] + \"_\" + e[1].upper() for e in cc_agg.columns.tolist()])\n",
    "    # Count credit card lines\n",
    "    cc_agg['CC_COUNT'] = cc.groupby('SK_ID_CURR').size()\n",
    "    del cc\n",
    "    gc.collect()\n",
    "    return cc_agg\n",
    "    \n",
    "def process_data(num_rows = None, nan_as_category = True, debug = False):\n",
    "    num_rows = 10000 if debug else None\n",
    "    df = application_train_test(num_rows)\n",
    "    with timer(\"Process bureau and bureau_balance\"):\n",
    "        bureau = bureau_and_balance(num_rows)\n",
    "        print(\"Bureau df shape:\", bureau.shape)\n",
    "        df = df.join(bureau, how='left', on='SK_ID_CURR')\n",
    "        del bureau\n",
    "        gc.collect()\n",
    "    with timer(\"Process previous_applications\"):\n",
    "        prev = previous_applications(num_rows)\n",
    "        print(\"Previous applications df shape:\", prev.shape)\n",
    "        df = df.join(prev, how='left', on='SK_ID_CURR')\n",
    "        del prev\n",
    "        gc.collect()\n",
    "    with timer(\"Process POS-CASH balance\"):\n",
    "        pos = pos_cash(num_rows)\n",
    "        print(\"Pos-cash balance df shape:\", pos.shape)\n",
    "        df = df.join(pos, how='left', on='SK_ID_CURR')\n",
    "        del pos\n",
    "        gc.collect()\n",
    "    with timer(\"Process installments payments\"):\n",
    "        ins = installments_payments(num_rows)\n",
    "        print(\"Installments payments df shape:\", ins.shape)\n",
    "        df = df.join(ins, how='left', on='SK_ID_CURR')\n",
    "        del ins\n",
    "        gc.collect()\n",
    "    with timer(\"Process credit card balance\"):\n",
    "        cc = credit_card_balance(num_rows)\n",
    "        print(\"Credit card balance df shape:\", cc.shape)\n",
    "        df = df.join(cc, how='left', on='SK_ID_CURR')\n",
    "        del cc\n",
    "        gc.collect()\n",
    "    return df \n",
    "\n",
    "df = process_data(num_rows = None, nan_as_category = True, debug = False)"
   ]
  },
  {
   "cell_type": "markdown",
   "id": "2610ab34",
   "metadata": {},
   "source": [
    "# Construction du modèle LightLGBM"
   ]
  },
  {
   "cell_type": "code",
   "execution_count": 4,
   "id": "11e431c5",
   "metadata": {},
   "outputs": [],
   "source": [
    "train_df = df[df['TARGET'].notnull()]\n",
    "test_df = df[df['TARGET'].isnull()]\n",
    "feats = [f for f in train_df.columns if f not in ['TARGET','SK_ID_CURR','SK_ID_BUREAU','SK_ID_PREV','index']]"
   ]
  },
  {
   "cell_type": "code",
   "execution_count": 5,
   "id": "a82e30ae",
   "metadata": {},
   "outputs": [
    {
     "data": {
      "text/plain": [
       "(282682, 798)"
      ]
     },
     "execution_count": 5,
     "metadata": {},
     "output_type": "execute_result"
    }
   ],
   "source": [
    "train_df[train_df['TARGET']==0].shape"
   ]
  },
  {
   "cell_type": "code",
   "execution_count": 6,
   "id": "fb43c654",
   "metadata": {},
   "outputs": [
    {
     "name": "stdout",
     "output_type": "stream",
     "text": [
      "Requirement already satisfied: lightgbm in ./OC_P7/.venv/lib/python3.10/site-packages (3.3.2)\n",
      "Requirement already satisfied: wheel in ./OC_P7/.venv/lib/python3.10/site-packages (from lightgbm) (0.37.1)\n",
      "Requirement already satisfied: scipy in ./OC_P7/.venv/lib/python3.10/site-packages (from lightgbm) (1.8.1)\n",
      "Requirement already satisfied: scikit-learn!=0.22.0 in ./OC_P7/.venv/lib/python3.10/site-packages (from lightgbm) (1.1.1)\n",
      "Requirement already satisfied: numpy in ./OC_P7/.venv/lib/python3.10/site-packages (from lightgbm) (1.23.0)\n",
      "Requirement already satisfied: threadpoolctl>=2.0.0 in ./OC_P7/.venv/lib/python3.10/site-packages (from scikit-learn!=0.22.0->lightgbm) (3.1.0)\n",
      "Requirement already satisfied: joblib>=1.0.0 in ./OC_P7/.venv/lib/python3.10/site-packages (from scikit-learn!=0.22.0->lightgbm) (1.1.0)\n",
      "\u001b[33mWARNING: You are using pip version 22.0.3; however, version 22.1.2 is available.\n",
      "You should consider upgrading via the '/Users/nihal/Documents/Openclassrooms/Projets/P7/OC_P7/.venv/bin/python -m pip install --upgrade pip' command.\u001b[0m\u001b[33m\n",
      "\u001b[0mNote: you may need to restart the kernel to use updated packages.\n"
     ]
    }
   ],
   "source": [
    "pip install lightgbm"
   ]
  },
  {
   "cell_type": "code",
   "execution_count": 7,
   "id": "171ec678",
   "metadata": {},
   "outputs": [],
   "source": [
    "# LightGBM GBDT with KFold or Stratified KFold\n",
    "# Parameters from Tilii kernel: https://www.kaggle.com/tilii7/olivier-lightgbm-parameters-by-bayesian-opt/code\n",
    "\n",
    "\n",
    "def kfold_lightgbm(df, num_folds,  class_weight = None, is_unbalance = False, stratified = False, debug= False):\n",
    "    train_df = df[df['TARGET'].notnull()]\n",
    "    test_df = df[df['TARGET'].isnull()]\n",
    "    # Divide in training/validation and test data\n",
    "    import re\n",
    "    train_df = train_df.rename(columns = lambda x:re.sub('[^A-Za-z0-9_]+', '', x))\n",
    "    test_df = test_df.rename(columns = lambda x:re.sub('[^A-Za-z0-9_]+', '', x))\n",
    "    print(\"Starting LightGBM. Train shape: {}, test shape: {}\".format(train_df.shape, test_df.shape))\n",
    "    del df\n",
    "    gc.collect()\n",
    "    # Cross validation model\n",
    "    if stratified:\n",
    "        folds = StratifiedKFold(n_splits= num_folds, shuffle=True, random_state=1001)\n",
    "    else:\n",
    "        folds = KFold(n_splits= num_folds, shuffle=True, random_state=1001)\n",
    "    # Create arrays and dataframes to store results\n",
    "    oof_preds = np.zeros(train_df.shape[0])\n",
    "    oof_class = np.zeros(train_df.shape[0])\n",
    "    sub_preds = np.zeros(test_df.shape[0])\n",
    "    feature_importance_df = pd.DataFrame()\n",
    "    feats = [f for f in train_df.columns if f not in ['TARGET','SK_ID_CURR','SK_ID_BUREAU','SK_ID_PREV','index']]\n",
    "    \n",
    "    for n_fold, (train_idx, valid_idx) in enumerate(folds.split(train_df[feats], train_df['TARGET'])):\n",
    "        train_x, train_y = train_df[feats].iloc[train_idx], train_df['TARGET'].iloc[train_idx]\n",
    "        valid_x, valid_y = train_df[feats].iloc[valid_idx], train_df['TARGET'].iloc[valid_idx]\n",
    "\n",
    "        # LightGBM parameters found by Bayesian optimization\n",
    "        clf = LGBMClassifier(\n",
    "            class_weight = class_weight,\n",
    "            is_unbalance = is_unbalance,\n",
    "            nthread=4,\n",
    "            n_estimators=10000,\n",
    "            learning_rate=0.02,\n",
    "            num_leaves=34,\n",
    "            colsample_bytree=0.9497036,\n",
    "            subsample=0.8715623,\n",
    "            max_depth=8,\n",
    "            reg_alpha=0.041545473,\n",
    "            reg_lambda=0.0735294,\n",
    "            min_split_gain=0.0222415,\n",
    "            min_child_weight=39.3259775,\n",
    "            silent=-1,\n",
    "            verbose=-1, )\n",
    "\n",
    "        clf.fit(train_x, train_y, eval_set=[(train_x, train_y), (valid_x, valid_y)], \n",
    "            eval_metric= 'auc', verbose= 200, early_stopping_rounds= 200)\n",
    "\n",
    "        oof_preds[valid_idx] = clf.predict_proba(valid_x, num_iteration=clf.best_iteration_)[:, 1]\n",
    "        oof_class[valid_idx] = clf.predict(valid_x, num_iteration=clf.best_iteration_)\n",
    "        \n",
    "        sub_preds += clf.predict_proba(test_df[feats], num_iteration=clf.best_iteration_)[:, 1] / folds.n_splits\n",
    "\n",
    "        fold_importance_df = pd.DataFrame()\n",
    "        fold_importance_df[\"feature\"] = feats\n",
    "        fold_importance_df[\"importance\"] = clf.feature_importances_\n",
    "        fold_importance_df[\"fold\"] = n_fold + 1\n",
    "        feature_importance_df = pd.concat([feature_importance_df, fold_importance_df], axis=0)\n",
    "        print('Fold %2d AUC : %.6f' % (n_fold + 1, roc_auc_score(valid_y, oof_preds[valid_idx])))\n",
    "        del train_x, train_y, valid_x, valid_y\n",
    "        gc.collect()\n",
    "\n",
    "    print('Full AUC score %.6f' % roc_auc_score(train_df['TARGET'], oof_preds))\n",
    "    plot_roc_curve(clf, train_df[feats], train_df['TARGET'])\n",
    "    # Write submission file and plot feature importance\n",
    "    if not debug:\n",
    "        test_df['TARGET'] = sub_preds\n",
    "        test_df[['SK_ID_CURR', 'TARGET']].to_csv('test_preds', index= False)\n",
    "    display_importances(feature_importance_df)\n",
    "    \n",
    "    return feature_importance_df, oof_preds, oof_class\n",
    "\n",
    "# Display/plot feature importance\n",
    "def display_importances(feature_importance_df_):\n",
    "    cols = feature_importance_df_[[\"feature\", \"importance\"]].groupby(\"feature\").mean().sort_values(by=\"importance\", ascending=False)[:40].index\n",
    "    best_features = feature_importance_df_.loc[feature_importance_df_.feature.isin(cols)]\n",
    "    plt.figure(figsize=(8, 10))\n",
    "    sns.barplot(x=\"importance\", y=\"feature\", data=best_features.sort_values(by=\"importance\", ascending=False))\n",
    "    plt.title('LightGBM Features (avg over folds)')\n",
    "    plt.tight_layout()\n",
    "    plt.savefig('lgbm_importances01.png')\n",
    "\n",
    "\n"
   ]
  },
  {
   "cell_type": "code",
   "execution_count": 8,
   "id": "ce1f45d3",
   "metadata": {},
   "outputs": [],
   "source": [
    "def plot_heatmap(y_true, y_pred, class_names, title):\n",
    "    cm = confusion_matrix(y_true, y_pred)#, normalize = \"true\")\n",
    "    #cm = cm*100\n",
    "    ax = sns.heatmap(\n",
    "        cm, \n",
    "        annot=True, \n",
    "        square=True, \n",
    "        xticklabels=class_names, \n",
    "        yticklabels=class_names,\n",
    "        fmt='.1f', \n",
    "        cmap='YlGnBu',\n",
    "        cbar=False,\n",
    "    )\n",
    "    plt.title(title, fontsize=16)\n",
    "    #set_xticklabels(ax.get_xticklabels(), rotation=45, ha=\"right\")\n",
    "    ax.set_xticklabels(ax.get_xticklabels(), rotation = 75)\n",
    "    plt.ylabel('True Label', fontsize = 12)\n",
    "    plt.xlabel('Predicted Label', fontsize=12)"
   ]
  },
  {
   "cell_type": "code",
   "execution_count": 9,
   "id": "b6c7b281",
   "metadata": {},
   "outputs": [],
   "source": [
    "from sklearn.metrics import classification_report\n",
    "def evaluate_model(prob, classes):\n",
    "    train_df = df[df['TARGET'].notnull()]\n",
    "    feats = [f for f in train_df.columns if f not in [\n",
    "        'TARGET', 'SK_ID_CURR', 'SK_ID_BUREAU', 'SK_ID_PREV', 'index']]\n",
    "    target_names = ['credit worthy', 'credit unworthy']\n",
    "\n",
    "    print('******************** Full AUC score ***********************')\n",
    "    print('Full AUC score %.6f' % roc_auc_score(train_df['TARGET'], prob))\n",
    "    print('\\n******************** Heatmap ***********************')\n",
    "    plot_heatmap(train_df['TARGET'], classes, target_names, 'Heatmap')\n",
    "    plt.show()\n",
    "    print('\\n******************** Classification report ***********************')\n",
    "    print(classification_report(\n",
    "        train_df['TARGET'], classes, target_names=target_names))"
   ]
  },
  {
   "cell_type": "markdown",
   "id": "6c48c4fd",
   "metadata": {},
   "source": [
    "### 1- No stratification / is_unbalance = False / no class weights "
   ]
  },
  {
   "cell_type": "code",
   "execution_count": 10,
   "id": "0f27dc37",
   "metadata": {},
   "outputs": [],
   "source": [
    "class_weight = None\n",
    "stratified = None\n",
    "is_unbalance = False "
   ]
  },
  {
   "cell_type": "code",
   "execution_count": 11,
   "id": "5de0ec41",
   "metadata": {},
   "outputs": [
    {
     "name": "stdout",
     "output_type": "stream",
     "text": [
      "Starting LightGBM. Train shape: (307507, 798), test shape: (48744, 798)\n"
     ]
    },
    {
     "name": "stderr",
     "output_type": "stream",
     "text": [
      "/Users/nihal/Documents/Openclassrooms/Projets/P7/OC_P7/.venv/lib/python3.10/site-packages/lightgbm/sklearn.py:598: UserWarning: 'silent' argument is deprecated and will be removed in a future release of LightGBM. Pass 'verbose' parameter via keyword arguments instead.\n",
      "  _log_warning(\"'silent' argument is deprecated and will be removed in a future release of LightGBM. \"\n",
      "/Users/nihal/Documents/Openclassrooms/Projets/P7/OC_P7/.venv/lib/python3.10/site-packages/lightgbm/sklearn.py:726: UserWarning: 'early_stopping_rounds' argument is deprecated and will be removed in a future release of LightGBM. Pass 'early_stopping()' callback via 'callbacks' argument instead.\n",
      "  _log_warning(\"'early_stopping_rounds' argument is deprecated and will be removed in a future release of LightGBM. \"\n",
      "/Users/nihal/Documents/Openclassrooms/Projets/P7/OC_P7/.venv/lib/python3.10/site-packages/lightgbm/sklearn.py:736: UserWarning: 'verbose' argument is deprecated and will be removed in a future release of LightGBM. Pass 'log_evaluation()' callback via 'callbacks' argument instead.\n",
      "  _log_warning(\"'verbose' argument is deprecated and will be removed in a future release of LightGBM. \"\n"
     ]
    },
    {
     "name": "stdout",
     "output_type": "stream",
     "text": [
      "[LightGBM] [Warning] num_threads is set with nthread=4, will be overridden by n_jobs=-1. Current value: num_threads=-1\n",
      "[200]\ttraining's auc: 0.803491\ttraining's binary_logloss: 0.231992\tvalid_1's auc: 0.774499\tvalid_1's binary_logloss: 0.244831\n",
      "[400]\ttraining's auc: 0.829173\ttraining's binary_logloss: 0.221118\tvalid_1's auc: 0.783877\tvalid_1's binary_logloss: 0.241055\n",
      "[600]\ttraining's auc: 0.846138\ttraining's binary_logloss: 0.214031\tvalid_1's auc: 0.787004\tvalid_1's binary_logloss: 0.239953\n",
      "[800]\ttraining's auc: 0.859614\ttraining's binary_logloss: 0.208255\tvalid_1's auc: 0.788082\tvalid_1's binary_logloss: 0.239541\n",
      "[1000]\ttraining's auc: 0.871649\ttraining's binary_logloss: 0.203046\tvalid_1's auc: 0.788632\tvalid_1's binary_logloss: 0.239348\n",
      "[1200]\ttraining's auc: 0.882319\ttraining's binary_logloss: 0.198164\tvalid_1's auc: 0.788856\tvalid_1's binary_logloss: 0.23926\n",
      "[1400]\ttraining's auc: 0.892621\ttraining's binary_logloss: 0.193324\tvalid_1's auc: 0.788859\tvalid_1's binary_logloss: 0.239282\n",
      "Fold  1 AUC : 0.788873\n"
     ]
    },
    {
     "name": "stderr",
     "output_type": "stream",
     "text": [
      "/Users/nihal/Documents/Openclassrooms/Projets/P7/OC_P7/.venv/lib/python3.10/site-packages/lightgbm/sklearn.py:598: UserWarning: 'silent' argument is deprecated and will be removed in a future release of LightGBM. Pass 'verbose' parameter via keyword arguments instead.\n",
      "  _log_warning(\"'silent' argument is deprecated and will be removed in a future release of LightGBM. \"\n",
      "/Users/nihal/Documents/Openclassrooms/Projets/P7/OC_P7/.venv/lib/python3.10/site-packages/lightgbm/sklearn.py:726: UserWarning: 'early_stopping_rounds' argument is deprecated and will be removed in a future release of LightGBM. Pass 'early_stopping()' callback via 'callbacks' argument instead.\n",
      "  _log_warning(\"'early_stopping_rounds' argument is deprecated and will be removed in a future release of LightGBM. \"\n",
      "/Users/nihal/Documents/Openclassrooms/Projets/P7/OC_P7/.venv/lib/python3.10/site-packages/lightgbm/sklearn.py:736: UserWarning: 'verbose' argument is deprecated and will be removed in a future release of LightGBM. Pass 'log_evaluation()' callback via 'callbacks' argument instead.\n",
      "  _log_warning(\"'verbose' argument is deprecated and will be removed in a future release of LightGBM. \"\n"
     ]
    },
    {
     "name": "stdout",
     "output_type": "stream",
     "text": [
      "[LightGBM] [Warning] num_threads is set with nthread=4, will be overridden by n_jobs=-1. Current value: num_threads=-1\n",
      "[200]\ttraining's auc: 0.802584\ttraining's binary_logloss: 0.234872\tvalid_1's auc: 0.775702\tvalid_1's binary_logloss: 0.239398\n",
      "[400]\ttraining's auc: 0.827979\ttraining's binary_logloss: 0.223921\tvalid_1's auc: 0.784971\tvalid_1's binary_logloss: 0.235603\n",
      "[600]\ttraining's auc: 0.844869\ttraining's binary_logloss: 0.216828\tvalid_1's auc: 0.788387\tvalid_1's binary_logloss: 0.234295\n",
      "[800]\ttraining's auc: 0.858447\ttraining's binary_logloss: 0.210996\tvalid_1's auc: 0.789774\tvalid_1's binary_logloss: 0.233779\n",
      "[1000]\ttraining's auc: 0.870438\ttraining's binary_logloss: 0.205688\tvalid_1's auc: 0.790243\tvalid_1's binary_logloss: 0.23357\n",
      "[1200]\ttraining's auc: 0.881607\ttraining's binary_logloss: 0.200466\tvalid_1's auc: 0.790482\tvalid_1's binary_logloss: 0.233431\n",
      "Fold  2 AUC : 0.790523\n"
     ]
    },
    {
     "name": "stderr",
     "output_type": "stream",
     "text": [
      "/Users/nihal/Documents/Openclassrooms/Projets/P7/OC_P7/.venv/lib/python3.10/site-packages/lightgbm/sklearn.py:598: UserWarning: 'silent' argument is deprecated and will be removed in a future release of LightGBM. Pass 'verbose' parameter via keyword arguments instead.\n",
      "  _log_warning(\"'silent' argument is deprecated and will be removed in a future release of LightGBM. \"\n",
      "/Users/nihal/Documents/Openclassrooms/Projets/P7/OC_P7/.venv/lib/python3.10/site-packages/lightgbm/sklearn.py:726: UserWarning: 'early_stopping_rounds' argument is deprecated and will be removed in a future release of LightGBM. Pass 'early_stopping()' callback via 'callbacks' argument instead.\n",
      "  _log_warning(\"'early_stopping_rounds' argument is deprecated and will be removed in a future release of LightGBM. \"\n",
      "/Users/nihal/Documents/Openclassrooms/Projets/P7/OC_P7/.venv/lib/python3.10/site-packages/lightgbm/sklearn.py:736: UserWarning: 'verbose' argument is deprecated and will be removed in a future release of LightGBM. Pass 'log_evaluation()' callback via 'callbacks' argument instead.\n",
      "  _log_warning(\"'verbose' argument is deprecated and will be removed in a future release of LightGBM. \"\n"
     ]
    },
    {
     "name": "stdout",
     "output_type": "stream",
     "text": [
      "[LightGBM] [Warning] num_threads is set with nthread=4, will be overridden by n_jobs=-1. Current value: num_threads=-1\n",
      "[200]\ttraining's auc: 0.803148\ttraining's binary_logloss: 0.233409\tvalid_1's auc: 0.774036\tvalid_1's binary_logloss: 0.242432\n",
      "[400]\ttraining's auc: 0.828377\ttraining's binary_logloss: 0.222596\tvalid_1's auc: 0.783726\tvalid_1's binary_logloss: 0.238443\n",
      "[600]\ttraining's auc: 0.84574\ttraining's binary_logloss: 0.215357\tvalid_1's auc: 0.786914\tvalid_1's binary_logloss: 0.237275\n",
      "[800]\ttraining's auc: 0.859786\ttraining's binary_logloss: 0.209466\tvalid_1's auc: 0.78834\tvalid_1's binary_logloss: 0.236753\n",
      "[1000]\ttraining's auc: 0.871983\ttraining's binary_logloss: 0.204058\tvalid_1's auc: 0.789118\tvalid_1's binary_logloss: 0.236478\n"
     ]
    },
    {
     "ename": "KeyboardInterrupt",
     "evalue": "",
     "output_type": "error",
     "traceback": [
      "\u001b[0;31m---------------------------------------------------------------------------\u001b[0m",
      "\u001b[0;31mKeyboardInterrupt\u001b[0m                         Traceback (most recent call last)",
      "Input \u001b[0;32mIn [11]\u001b[0m, in \u001b[0;36m<cell line: 1>\u001b[0;34m()\u001b[0m\n\u001b[0;32m----> 1\u001b[0m feature_importance_df, prob1, classes1 \u001b[38;5;241m=\u001b[39m \u001b[43mkfold_lightgbm\u001b[49m\u001b[43m(\u001b[49m\n\u001b[1;32m      2\u001b[0m \u001b[43m    \u001b[49m\u001b[43mdf\u001b[49m\u001b[43m,\u001b[49m\u001b[43m \u001b[49m\u001b[43mnum_folds\u001b[49m\u001b[43m \u001b[49m\u001b[38;5;241;43m=\u001b[39;49m\u001b[43m \u001b[49m\u001b[38;5;241;43m3\u001b[39;49m\u001b[43m,\u001b[49m\u001b[43m  \u001b[49m\u001b[43mclass_weight\u001b[49m\u001b[38;5;241;43m=\u001b[39;49m\u001b[43mclass_weight\u001b[49m\u001b[43m,\u001b[49m\u001b[43m \u001b[49m\u001b[43mis_unbalance\u001b[49m\u001b[43m \u001b[49m\u001b[38;5;241;43m=\u001b[39;49m\u001b[43m \u001b[49m\u001b[43mis_unbalance\u001b[49m\u001b[43m,\u001b[49m\u001b[43m \u001b[49m\u001b[43mstratified\u001b[49m\u001b[38;5;241;43m=\u001b[39;49m\u001b[43mstratified\u001b[49m\u001b[43m,\u001b[49m\u001b[43m \u001b[49m\u001b[43mdebug\u001b[49m\u001b[38;5;241;43m=\u001b[39;49m\u001b[38;5;28;43;01mFalse\u001b[39;49;00m\u001b[43m)\u001b[49m\n",
      "Input \u001b[0;32mIn [7]\u001b[0m, in \u001b[0;36mkfold_lightgbm\u001b[0;34m(***failed resolving arguments***)\u001b[0m\n\u001b[1;32m     31\u001b[0m \u001b[38;5;66;03m# LightGBM parameters found by Bayesian optimization\u001b[39;00m\n\u001b[1;32m     32\u001b[0m clf \u001b[38;5;241m=\u001b[39m LGBMClassifier(\n\u001b[1;32m     33\u001b[0m     class_weight \u001b[38;5;241m=\u001b[39m class_weight,\n\u001b[1;32m     34\u001b[0m     is_unbalance \u001b[38;5;241m=\u001b[39m is_unbalance,\n\u001b[0;32m   (...)\u001b[0m\n\u001b[1;32m     46\u001b[0m     silent\u001b[38;5;241m=\u001b[39m\u001b[38;5;241m-\u001b[39m\u001b[38;5;241m1\u001b[39m,\n\u001b[1;32m     47\u001b[0m     verbose\u001b[38;5;241m=\u001b[39m\u001b[38;5;241m-\u001b[39m\u001b[38;5;241m1\u001b[39m, )\n\u001b[0;32m---> 49\u001b[0m \u001b[43mclf\u001b[49m\u001b[38;5;241;43m.\u001b[39;49m\u001b[43mfit\u001b[49m\u001b[43m(\u001b[49m\u001b[43mtrain_x\u001b[49m\u001b[43m,\u001b[49m\u001b[43m \u001b[49m\u001b[43mtrain_y\u001b[49m\u001b[43m,\u001b[49m\u001b[43m \u001b[49m\u001b[43meval_set\u001b[49m\u001b[38;5;241;43m=\u001b[39;49m\u001b[43m[\u001b[49m\u001b[43m(\u001b[49m\u001b[43mtrain_x\u001b[49m\u001b[43m,\u001b[49m\u001b[43m \u001b[49m\u001b[43mtrain_y\u001b[49m\u001b[43m)\u001b[49m\u001b[43m,\u001b[49m\u001b[43m \u001b[49m\u001b[43m(\u001b[49m\u001b[43mvalid_x\u001b[49m\u001b[43m,\u001b[49m\u001b[43m \u001b[49m\u001b[43mvalid_y\u001b[49m\u001b[43m)\u001b[49m\u001b[43m]\u001b[49m\u001b[43m,\u001b[49m\u001b[43m \u001b[49m\n\u001b[1;32m     50\u001b[0m \u001b[43m    \u001b[49m\u001b[43meval_metric\u001b[49m\u001b[38;5;241;43m=\u001b[39;49m\u001b[43m \u001b[49m\u001b[38;5;124;43m'\u001b[39;49m\u001b[38;5;124;43mauc\u001b[39;49m\u001b[38;5;124;43m'\u001b[39;49m\u001b[43m,\u001b[49m\u001b[43m \u001b[49m\u001b[43mverbose\u001b[49m\u001b[38;5;241;43m=\u001b[39;49m\u001b[43m \u001b[49m\u001b[38;5;241;43m200\u001b[39;49m\u001b[43m,\u001b[49m\u001b[43m \u001b[49m\u001b[43mearly_stopping_rounds\u001b[49m\u001b[38;5;241;43m=\u001b[39;49m\u001b[43m \u001b[49m\u001b[38;5;241;43m200\u001b[39;49m\u001b[43m)\u001b[49m\n\u001b[1;32m     52\u001b[0m oof_preds[valid_idx] \u001b[38;5;241m=\u001b[39m clf\u001b[38;5;241m.\u001b[39mpredict_proba(valid_x, num_iteration\u001b[38;5;241m=\u001b[39mclf\u001b[38;5;241m.\u001b[39mbest_iteration_)[:, \u001b[38;5;241m1\u001b[39m]\n\u001b[1;32m     53\u001b[0m oof_class[valid_idx] \u001b[38;5;241m=\u001b[39m clf\u001b[38;5;241m.\u001b[39mpredict(valid_x, num_iteration\u001b[38;5;241m=\u001b[39mclf\u001b[38;5;241m.\u001b[39mbest_iteration_)\n",
      "File \u001b[0;32m~/Documents/Openclassrooms/Projets/P7/OC_P7/.venv/lib/python3.10/site-packages/lightgbm/sklearn.py:967\u001b[0m, in \u001b[0;36mLGBMClassifier.fit\u001b[0;34m(self, X, y, sample_weight, init_score, eval_set, eval_names, eval_sample_weight, eval_class_weight, eval_init_score, eval_metric, early_stopping_rounds, verbose, feature_name, categorical_feature, callbacks, init_model)\u001b[0m\n\u001b[1;32m    964\u001b[0m         \u001b[38;5;28;01melse\u001b[39;00m:\n\u001b[1;32m    965\u001b[0m             valid_sets[i] \u001b[38;5;241m=\u001b[39m (valid_x, \u001b[38;5;28mself\u001b[39m\u001b[38;5;241m.\u001b[39m_le\u001b[38;5;241m.\u001b[39mtransform(valid_y))\n\u001b[0;32m--> 967\u001b[0m \u001b[38;5;28;43msuper\u001b[39;49m\u001b[43m(\u001b[49m\u001b[43m)\u001b[49m\u001b[38;5;241;43m.\u001b[39;49m\u001b[43mfit\u001b[49m\u001b[43m(\u001b[49m\u001b[43mX\u001b[49m\u001b[43m,\u001b[49m\u001b[43m \u001b[49m\u001b[43m_y\u001b[49m\u001b[43m,\u001b[49m\u001b[43m \u001b[49m\u001b[43msample_weight\u001b[49m\u001b[38;5;241;43m=\u001b[39;49m\u001b[43msample_weight\u001b[49m\u001b[43m,\u001b[49m\u001b[43m \u001b[49m\u001b[43minit_score\u001b[49m\u001b[38;5;241;43m=\u001b[39;49m\u001b[43minit_score\u001b[49m\u001b[43m,\u001b[49m\u001b[43m \u001b[49m\u001b[43meval_set\u001b[49m\u001b[38;5;241;43m=\u001b[39;49m\u001b[43mvalid_sets\u001b[49m\u001b[43m,\u001b[49m\n\u001b[1;32m    968\u001b[0m \u001b[43m            \u001b[49m\u001b[43meval_names\u001b[49m\u001b[38;5;241;43m=\u001b[39;49m\u001b[43meval_names\u001b[49m\u001b[43m,\u001b[49m\u001b[43m \u001b[49m\u001b[43meval_sample_weight\u001b[49m\u001b[38;5;241;43m=\u001b[39;49m\u001b[43meval_sample_weight\u001b[49m\u001b[43m,\u001b[49m\n\u001b[1;32m    969\u001b[0m \u001b[43m            \u001b[49m\u001b[43meval_class_weight\u001b[49m\u001b[38;5;241;43m=\u001b[39;49m\u001b[43meval_class_weight\u001b[49m\u001b[43m,\u001b[49m\u001b[43m \u001b[49m\u001b[43meval_init_score\u001b[49m\u001b[38;5;241;43m=\u001b[39;49m\u001b[43meval_init_score\u001b[49m\u001b[43m,\u001b[49m\n\u001b[1;32m    970\u001b[0m \u001b[43m            \u001b[49m\u001b[43meval_metric\u001b[49m\u001b[38;5;241;43m=\u001b[39;49m\u001b[43meval_metric\u001b[49m\u001b[43m,\u001b[49m\u001b[43m \u001b[49m\u001b[43mearly_stopping_rounds\u001b[49m\u001b[38;5;241;43m=\u001b[39;49m\u001b[43mearly_stopping_rounds\u001b[49m\u001b[43m,\u001b[49m\n\u001b[1;32m    971\u001b[0m \u001b[43m            \u001b[49m\u001b[43mverbose\u001b[49m\u001b[38;5;241;43m=\u001b[39;49m\u001b[43mverbose\u001b[49m\u001b[43m,\u001b[49m\u001b[43m \u001b[49m\u001b[43mfeature_name\u001b[49m\u001b[38;5;241;43m=\u001b[39;49m\u001b[43mfeature_name\u001b[49m\u001b[43m,\u001b[49m\u001b[43m \u001b[49m\u001b[43mcategorical_feature\u001b[49m\u001b[38;5;241;43m=\u001b[39;49m\u001b[43mcategorical_feature\u001b[49m\u001b[43m,\u001b[49m\n\u001b[1;32m    972\u001b[0m \u001b[43m            \u001b[49m\u001b[43mcallbacks\u001b[49m\u001b[38;5;241;43m=\u001b[39;49m\u001b[43mcallbacks\u001b[49m\u001b[43m,\u001b[49m\u001b[43m \u001b[49m\u001b[43minit_model\u001b[49m\u001b[38;5;241;43m=\u001b[39;49m\u001b[43minit_model\u001b[49m\u001b[43m)\u001b[49m\n\u001b[1;32m    973\u001b[0m \u001b[38;5;28;01mreturn\u001b[39;00m \u001b[38;5;28mself\u001b[39m\n",
      "File \u001b[0;32m~/Documents/Openclassrooms/Projets/P7/OC_P7/.venv/lib/python3.10/site-packages/lightgbm/sklearn.py:748\u001b[0m, in \u001b[0;36mLGBMModel.fit\u001b[0;34m(self, X, y, sample_weight, init_score, group, eval_set, eval_names, eval_sample_weight, eval_class_weight, eval_init_score, eval_group, eval_metric, early_stopping_rounds, verbose, feature_name, categorical_feature, callbacks, init_model)\u001b[0m\n\u001b[1;32m    745\u001b[0m evals_result \u001b[38;5;241m=\u001b[39m {}\n\u001b[1;32m    746\u001b[0m callbacks\u001b[38;5;241m.\u001b[39mappend(record_evaluation(evals_result))\n\u001b[0;32m--> 748\u001b[0m \u001b[38;5;28mself\u001b[39m\u001b[38;5;241m.\u001b[39m_Booster \u001b[38;5;241m=\u001b[39m \u001b[43mtrain\u001b[49m\u001b[43m(\u001b[49m\n\u001b[1;32m    749\u001b[0m \u001b[43m    \u001b[49m\u001b[43mparams\u001b[49m\u001b[38;5;241;43m=\u001b[39;49m\u001b[43mparams\u001b[49m\u001b[43m,\u001b[49m\n\u001b[1;32m    750\u001b[0m \u001b[43m    \u001b[49m\u001b[43mtrain_set\u001b[49m\u001b[38;5;241;43m=\u001b[39;49m\u001b[43mtrain_set\u001b[49m\u001b[43m,\u001b[49m\n\u001b[1;32m    751\u001b[0m \u001b[43m    \u001b[49m\u001b[43mnum_boost_round\u001b[49m\u001b[38;5;241;43m=\u001b[39;49m\u001b[38;5;28;43mself\u001b[39;49m\u001b[38;5;241;43m.\u001b[39;49m\u001b[43mn_estimators\u001b[49m\u001b[43m,\u001b[49m\n\u001b[1;32m    752\u001b[0m \u001b[43m    \u001b[49m\u001b[43mvalid_sets\u001b[49m\u001b[38;5;241;43m=\u001b[39;49m\u001b[43mvalid_sets\u001b[49m\u001b[43m,\u001b[49m\n\u001b[1;32m    753\u001b[0m \u001b[43m    \u001b[49m\u001b[43mvalid_names\u001b[49m\u001b[38;5;241;43m=\u001b[39;49m\u001b[43meval_names\u001b[49m\u001b[43m,\u001b[49m\n\u001b[1;32m    754\u001b[0m \u001b[43m    \u001b[49m\u001b[43mfobj\u001b[49m\u001b[38;5;241;43m=\u001b[39;49m\u001b[38;5;28;43mself\u001b[39;49m\u001b[38;5;241;43m.\u001b[39;49m\u001b[43m_fobj\u001b[49m\u001b[43m,\u001b[49m\n\u001b[1;32m    755\u001b[0m \u001b[43m    \u001b[49m\u001b[43mfeval\u001b[49m\u001b[38;5;241;43m=\u001b[39;49m\u001b[43meval_metrics_callable\u001b[49m\u001b[43m,\u001b[49m\n\u001b[1;32m    756\u001b[0m \u001b[43m    \u001b[49m\u001b[43minit_model\u001b[49m\u001b[38;5;241;43m=\u001b[39;49m\u001b[43minit_model\u001b[49m\u001b[43m,\u001b[49m\n\u001b[1;32m    757\u001b[0m \u001b[43m    \u001b[49m\u001b[43mfeature_name\u001b[49m\u001b[38;5;241;43m=\u001b[39;49m\u001b[43mfeature_name\u001b[49m\u001b[43m,\u001b[49m\n\u001b[1;32m    758\u001b[0m \u001b[43m    \u001b[49m\u001b[43mcallbacks\u001b[49m\u001b[38;5;241;43m=\u001b[39;49m\u001b[43mcallbacks\u001b[49m\n\u001b[1;32m    759\u001b[0m \u001b[43m\u001b[49m\u001b[43m)\u001b[49m\n\u001b[1;32m    761\u001b[0m \u001b[38;5;28;01mif\u001b[39;00m evals_result:\n\u001b[1;32m    762\u001b[0m     \u001b[38;5;28mself\u001b[39m\u001b[38;5;241m.\u001b[39m_evals_result \u001b[38;5;241m=\u001b[39m evals_result\n",
      "File \u001b[0;32m~/Documents/Openclassrooms/Projets/P7/OC_P7/.venv/lib/python3.10/site-packages/lightgbm/engine.py:299\u001b[0m, in \u001b[0;36mtrain\u001b[0;34m(params, train_set, num_boost_round, valid_sets, valid_names, fobj, feval, init_model, feature_name, categorical_feature, early_stopping_rounds, evals_result, verbose_eval, learning_rates, keep_training_booster, callbacks)\u001b[0m\n\u001b[1;32m    297\u001b[0m     \u001b[38;5;28;01mif\u001b[39;00m is_valid_contain_train:\n\u001b[1;32m    298\u001b[0m         evaluation_result_list\u001b[38;5;241m.\u001b[39mextend(booster\u001b[38;5;241m.\u001b[39meval_train(feval))\n\u001b[0;32m--> 299\u001b[0m     evaluation_result_list\u001b[38;5;241m.\u001b[39mextend(\u001b[43mbooster\u001b[49m\u001b[38;5;241;43m.\u001b[39;49m\u001b[43meval_valid\u001b[49m\u001b[43m(\u001b[49m\u001b[43mfeval\u001b[49m\u001b[43m)\u001b[49m)\n\u001b[1;32m    300\u001b[0m \u001b[38;5;28;01mtry\u001b[39;00m:\n\u001b[1;32m    301\u001b[0m     \u001b[38;5;28;01mfor\u001b[39;00m cb \u001b[38;5;129;01min\u001b[39;00m callbacks_after_iter:\n",
      "File \u001b[0;32m~/Documents/Openclassrooms/Projets/P7/OC_P7/.venv/lib/python3.10/site-packages/lightgbm/basic.py:3271\u001b[0m, in \u001b[0;36mBooster.eval_valid\u001b[0;34m(self, feval)\u001b[0m\n\u001b[1;32m   3240\u001b[0m \u001b[38;5;28;01mdef\u001b[39;00m \u001b[38;5;21meval_valid\u001b[39m(\u001b[38;5;28mself\u001b[39m, feval\u001b[38;5;241m=\u001b[39m\u001b[38;5;28;01mNone\u001b[39;00m):\n\u001b[1;32m   3241\u001b[0m     \u001b[38;5;124;03m\"\"\"Evaluate for validation data.\u001b[39;00m\n\u001b[1;32m   3242\u001b[0m \n\u001b[1;32m   3243\u001b[0m \u001b[38;5;124;03m    Parameters\u001b[39;00m\n\u001b[0;32m   (...)\u001b[0m\n\u001b[1;32m   3269\u001b[0m \u001b[38;5;124;03m        List with evaluation results.\u001b[39;00m\n\u001b[1;32m   3270\u001b[0m \u001b[38;5;124;03m    \"\"\"\u001b[39;00m\n\u001b[0;32m-> 3271\u001b[0m     \u001b[38;5;28;01mreturn\u001b[39;00m [item \u001b[38;5;28;01mfor\u001b[39;00m i \u001b[38;5;129;01min\u001b[39;00m \u001b[38;5;28mrange\u001b[39m(\u001b[38;5;241m1\u001b[39m, \u001b[38;5;28mself\u001b[39m\u001b[38;5;241m.\u001b[39m__num_dataset)\n\u001b[1;32m   3272\u001b[0m             \u001b[38;5;28;01mfor\u001b[39;00m item \u001b[38;5;129;01min\u001b[39;00m \u001b[38;5;28mself\u001b[39m\u001b[38;5;241m.\u001b[39m__inner_eval(\u001b[38;5;28mself\u001b[39m\u001b[38;5;241m.\u001b[39mname_valid_sets[i \u001b[38;5;241m-\u001b[39m \u001b[38;5;241m1\u001b[39m], i, feval)]\n",
      "File \u001b[0;32m~/Documents/Openclassrooms/Projets/P7/OC_P7/.venv/lib/python3.10/site-packages/lightgbm/basic.py:3272\u001b[0m, in \u001b[0;36m<listcomp>\u001b[0;34m(.0)\u001b[0m\n\u001b[1;32m   3240\u001b[0m \u001b[38;5;28;01mdef\u001b[39;00m \u001b[38;5;21meval_valid\u001b[39m(\u001b[38;5;28mself\u001b[39m, feval\u001b[38;5;241m=\u001b[39m\u001b[38;5;28;01mNone\u001b[39;00m):\n\u001b[1;32m   3241\u001b[0m     \u001b[38;5;124;03m\"\"\"Evaluate for validation data.\u001b[39;00m\n\u001b[1;32m   3242\u001b[0m \n\u001b[1;32m   3243\u001b[0m \u001b[38;5;124;03m    Parameters\u001b[39;00m\n\u001b[0;32m   (...)\u001b[0m\n\u001b[1;32m   3269\u001b[0m \u001b[38;5;124;03m        List with evaluation results.\u001b[39;00m\n\u001b[1;32m   3270\u001b[0m \u001b[38;5;124;03m    \"\"\"\u001b[39;00m\n\u001b[1;32m   3271\u001b[0m     \u001b[38;5;28;01mreturn\u001b[39;00m [item \u001b[38;5;28;01mfor\u001b[39;00m i \u001b[38;5;129;01min\u001b[39;00m \u001b[38;5;28mrange\u001b[39m(\u001b[38;5;241m1\u001b[39m, \u001b[38;5;28mself\u001b[39m\u001b[38;5;241m.\u001b[39m__num_dataset)\n\u001b[0;32m-> 3272\u001b[0m             \u001b[38;5;28;01mfor\u001b[39;00m item \u001b[38;5;129;01min\u001b[39;00m \u001b[38;5;28;43mself\u001b[39;49m\u001b[38;5;241;43m.\u001b[39;49m\u001b[43m__inner_eval\u001b[49m\u001b[43m(\u001b[49m\u001b[38;5;28;43mself\u001b[39;49m\u001b[38;5;241;43m.\u001b[39;49m\u001b[43mname_valid_sets\u001b[49m\u001b[43m[\u001b[49m\u001b[43mi\u001b[49m\u001b[43m \u001b[49m\u001b[38;5;241;43m-\u001b[39;49m\u001b[43m \u001b[49m\u001b[38;5;241;43m1\u001b[39;49m\u001b[43m]\u001b[49m\u001b[43m,\u001b[49m\u001b[43m \u001b[49m\u001b[43mi\u001b[49m\u001b[43m,\u001b[49m\u001b[43m \u001b[49m\u001b[43mfeval\u001b[49m\u001b[43m)\u001b[49m]\n",
      "File \u001b[0;32m~/Documents/Openclassrooms/Projets/P7/OC_P7/.venv/lib/python3.10/site-packages/lightgbm/basic.py:3789\u001b[0m, in \u001b[0;36mBooster.__inner_eval\u001b[0;34m(self, data_name, data_idx, feval)\u001b[0m\n\u001b[1;32m   3787\u001b[0m result \u001b[38;5;241m=\u001b[39m np\u001b[38;5;241m.\u001b[39mempty(\u001b[38;5;28mself\u001b[39m\u001b[38;5;241m.\u001b[39m__num_inner_eval, dtype\u001b[38;5;241m=\u001b[39mnp\u001b[38;5;241m.\u001b[39mfloat64)\n\u001b[1;32m   3788\u001b[0m tmp_out_len \u001b[38;5;241m=\u001b[39m ctypes\u001b[38;5;241m.\u001b[39mc_int(\u001b[38;5;241m0\u001b[39m)\n\u001b[0;32m-> 3789\u001b[0m _safe_call(\u001b[43m_LIB\u001b[49m\u001b[38;5;241;43m.\u001b[39;49m\u001b[43mLGBM_BoosterGetEval\u001b[49m\u001b[43m(\u001b[49m\n\u001b[1;32m   3790\u001b[0m \u001b[43m    \u001b[49m\u001b[38;5;28;43mself\u001b[39;49m\u001b[38;5;241;43m.\u001b[39;49m\u001b[43mhandle\u001b[49m\u001b[43m,\u001b[49m\n\u001b[1;32m   3791\u001b[0m \u001b[43m    \u001b[49m\u001b[43mctypes\u001b[49m\u001b[38;5;241;43m.\u001b[39;49m\u001b[43mc_int\u001b[49m\u001b[43m(\u001b[49m\u001b[43mdata_idx\u001b[49m\u001b[43m)\u001b[49m\u001b[43m,\u001b[49m\n\u001b[1;32m   3792\u001b[0m \u001b[43m    \u001b[49m\u001b[43mctypes\u001b[49m\u001b[38;5;241;43m.\u001b[39;49m\u001b[43mbyref\u001b[49m\u001b[43m(\u001b[49m\u001b[43mtmp_out_len\u001b[49m\u001b[43m)\u001b[49m\u001b[43m,\u001b[49m\n\u001b[1;32m   3793\u001b[0m \u001b[43m    \u001b[49m\u001b[43mresult\u001b[49m\u001b[38;5;241;43m.\u001b[39;49m\u001b[43mctypes\u001b[49m\u001b[38;5;241;43m.\u001b[39;49m\u001b[43mdata_as\u001b[49m\u001b[43m(\u001b[49m\u001b[43mctypes\u001b[49m\u001b[38;5;241;43m.\u001b[39;49m\u001b[43mPOINTER\u001b[49m\u001b[43m(\u001b[49m\u001b[43mctypes\u001b[49m\u001b[38;5;241;43m.\u001b[39;49m\u001b[43mc_double\u001b[49m\u001b[43m)\u001b[49m\u001b[43m)\u001b[49m\u001b[43m)\u001b[49m)\n\u001b[1;32m   3794\u001b[0m \u001b[38;5;28;01mif\u001b[39;00m tmp_out_len\u001b[38;5;241m.\u001b[39mvalue \u001b[38;5;241m!=\u001b[39m \u001b[38;5;28mself\u001b[39m\u001b[38;5;241m.\u001b[39m__num_inner_eval:\n\u001b[1;32m   3795\u001b[0m     \u001b[38;5;28;01mraise\u001b[39;00m \u001b[38;5;167;01mValueError\u001b[39;00m(\u001b[38;5;124m\"\u001b[39m\u001b[38;5;124mWrong length of eval results\u001b[39m\u001b[38;5;124m\"\u001b[39m)\n",
      "\u001b[0;31mKeyboardInterrupt\u001b[0m: "
     ]
    }
   ],
   "source": [
    "feature_importance_df, prob1, classes1 = kfold_lightgbm(\n",
    "    df, num_folds = 3,  class_weight=class_weight, is_unbalance = is_unbalance, stratified=stratified, debug=False)"
   ]
  },
  {
   "cell_type": "markdown",
   "id": "d5a5395d",
   "metadata": {},
   "source": [
    "stratified for unbalanced data -> gives train and test datasets that reflect the distribution of negative and positive classes in the original dataset \n",
    "\n",
    "class weights parameter in lightGBM : attribute diff weights to the pos and neg class, so that an error of prediction for the negative class is more penalized during the training than an eror of prediction for the pos class. \n",
    "\n"
   ]
  },
  {
   "cell_type": "code",
   "execution_count": null,
   "id": "b84cbdee",
   "metadata": {},
   "outputs": [],
   "source": [
    "evaluate_model(prob1, classes1)"
   ]
  },
  {
   "cell_type": "markdown",
   "id": "d2cbc4d3",
   "metadata": {},
   "source": [
    "### stratification / is_unbalance = False / no class weights "
   ]
  },
  {
   "cell_type": "code",
   "execution_count": null,
   "id": "e1b89dc2",
   "metadata": {},
   "outputs": [],
   "source": [
    "class_weight = None\n",
    "stratified = True\n",
    "is_unbalance = False"
   ]
  },
  {
   "cell_type": "code",
   "execution_count": null,
   "id": "f2409c50",
   "metadata": {},
   "outputs": [],
   "source": [
    "feature_importance_df, prob2, classes2 = kfold_lightgbm(\n",
    "    df, num_folds = 3,  class_weight=class_weight, is_unbalance = is_unbalance, stratified=stratified, debug=False)"
   ]
  },
  {
   "cell_type": "code",
   "execution_count": null,
   "id": "a23e4686",
   "metadata": {},
   "outputs": [],
   "source": [
    "evaluate_model(prob2, classes2)"
   ]
  },
  {
   "cell_type": "markdown",
   "id": "07d6285b",
   "metadata": {},
   "source": [
    "### stratification / is_unbalance = True / no class weights "
   ]
  },
  {
   "cell_type": "code",
   "execution_count": null,
   "id": "fccbad22",
   "metadata": {},
   "outputs": [],
   "source": [
    "class_weight = None\n",
    "stratified = True\n",
    "is_unbalance = True"
   ]
  },
  {
   "cell_type": "code",
   "execution_count": null,
   "id": "7d57f967",
   "metadata": {},
   "outputs": [],
   "source": [
    "feature_importance_df, prob3, classes3 = kfold_lightgbm(\n",
    "    df, num_folds = 3,  class_weight=class_weight, is_unbalance = is_unbalance, stratified=stratified, debug=False)"
   ]
  },
  {
   "cell_type": "code",
   "execution_count": null,
   "id": "4675ae55",
   "metadata": {},
   "outputs": [],
   "source": [
    "evaluate_model(prob3, classes3)"
   ]
  },
  {
   "cell_type": "markdown",
   "id": "cfc513e3",
   "metadata": {},
   "source": [
    "### stratification / is_unbalance = False / class weights "
   ]
  },
  {
   "cell_type": "code",
   "execution_count": null,
   "id": "9e958fa6",
   "metadata": {},
   "outputs": [],
   "source": [
    "class_weight = 'balanced'\n",
    "stratified = True\n",
    "is_unbalance = False"
   ]
  },
  {
   "cell_type": "code",
   "execution_count": null,
   "id": "828366f7",
   "metadata": {},
   "outputs": [],
   "source": [
    "feature_importance_df, prob5, classes5 = kfold_lightgbm(\n",
    "    df, num_folds=3,  class_weight=class_weight, is_unbalance=is_unbalance, stratified=stratified, debug=False)"
   ]
  },
  {
   "cell_type": "code",
   "execution_count": null,
   "id": "4c24f10c",
   "metadata": {},
   "outputs": [],
   "source": [
    "evaluate_model(prob5, classes5)"
   ]
  },
  {
   "cell_type": "code",
   "execution_count": null,
   "id": "215fcd65",
   "metadata": {},
   "outputs": [],
   "source": [
    "from sklearn.metrics import roc_curve\n",
    "[fpr, tpr, thr] = roc_curve(train_df['TARGET'], prob5)\n",
    "# indice du premier seuil pour lequel\n",
    "# la sensibilité est supérieure à 0.95\n",
    "idx = np.min(np.where(tpr > 0.9)) \n",
    "\n",
    "print(\"Sensibilité : {:.2f}\".format(tpr[idx]))\n",
    "print(\"Spécificité : {:.2f}\".format(1-fpr[idx]))\n",
    "print(\"Seuil : {:.2f}\".format(thr[idx]))"
   ]
  },
  {
   "cell_type": "markdown",
   "id": "2bd77fef",
   "metadata": {},
   "source": [
    "### stratification / is_unbalance = True / class weights "
   ]
  },
  {
   "cell_type": "code",
   "execution_count": null,
   "id": "97cc33b5",
   "metadata": {},
   "outputs": [],
   "source": [
    "class_weight = 'balanced'\n",
    "stratified = False\n",
    "is_unbalance = True"
   ]
  },
  {
   "cell_type": "code",
   "execution_count": null,
   "id": "67be18de",
   "metadata": {},
   "outputs": [],
   "source": [
    "feature_importance_df, prob6, classes6 = kfold_lightgbm(\n",
    "    df, num_folds=3,  class_weight=class_weight, is_unbalance=is_unbalance, stratified=stratified, debug=False)"
   ]
  },
  {
   "cell_type": "code",
   "execution_count": null,
   "id": "6da6be74",
   "metadata": {
    "scrolled": true
   },
   "outputs": [],
   "source": [
    "evaluate_model(prob6, classes6)"
   ]
  },
  {
   "cell_type": "markdown",
   "id": "5e3b7a95",
   "metadata": {},
   "source": [
    "### stratification / is_unbalance = False / class weights "
   ]
  },
  {
   "cell_type": "code",
   "execution_count": null,
   "id": "2808a06d",
   "metadata": {},
   "outputs": [],
   "source": [
    "class_weight = 'balanced'\n",
    "stratified = True\n",
    "is_unbalance = False"
   ]
  },
  {
   "cell_type": "code",
   "execution_count": null,
   "id": "0bdab7e2",
   "metadata": {},
   "outputs": [],
   "source": [
    "feature_importance_df4, prob4, classes4 = kfold_lightgbm(\n",
    "    df, num_folds = 3,  class_weight=class_weight, is_unbalance = is_unbalance, stratified=stratified, debug=False)"
   ]
  },
  {
   "cell_type": "code",
   "execution_count": null,
   "id": "b6d505a5",
   "metadata": {},
   "outputs": [],
   "source": [
    "evaluate_model(prob4, classes4)"
   ]
  },
  {
   "cell_type": "markdown",
   "id": "80c41d59",
   "metadata": {},
   "source": [
    "#### Drop highly correlated columns "
   ]
  },
  {
   "cell_type": "markdown",
   "id": "013f8c99",
   "metadata": {},
   "source": [
    "* We drop columns that are highly correlated, while making sure beforehand that these columns do not represent one of the 100 most important features "
   ]
  },
  {
   "cell_type": "code",
   "execution_count": null,
   "id": "b3ce2d36",
   "metadata": {},
   "outputs": [],
   "source": [
    "corr = df.corr()"
   ]
  },
  {
   "cell_type": "code",
   "execution_count": null,
   "id": "6f5945a9",
   "metadata": {},
   "outputs": [],
   "source": [
    "corr = corr.abs()\n",
    "upper_tri = corr.where(np.triu(np.ones(corr.shape),k=1).astype(np.bool))\n",
    "to_drop = [column for column in upper_tri.columns if any(upper_tri[column] > 0.95)]\n",
    "len(to_drop)"
   ]
  },
  {
   "cell_type": "code",
   "execution_count": null,
   "id": "4518668c",
   "metadata": {},
   "outputs": [],
   "source": [
    "feature_importance = feature_importance_df4[feature_importance_df4['fold']==3][['feature', 'importance']]\n",
    "feature_importance_max = feature_importance.sort_values(by = 'importance', ascending = False)[:100]\n",
    "to_drop_imp = [feature for feature in to_drop if feature in feature_importance_max]\n",
    "to_drop_imp"
   ]
  },
  {
   "cell_type": "code",
   "execution_count": null,
   "id": "fcff84bc",
   "metadata": {},
   "outputs": [],
   "source": [
    "df_cr = df.drop(columns = to_drop)\n",
    "df_cr.shape"
   ]
  },
  {
   "cell_type": "markdown",
   "id": "fad9d295",
   "metadata": {},
   "source": [
    "#### Run model with df_cr "
   ]
  },
  {
   "cell_type": "code",
   "execution_count": null,
   "id": "6cd1d886",
   "metadata": {},
   "outputs": [],
   "source": [
    "class_weight = 'balanced'\n",
    "stratified = True\n",
    "is_unbalance = False"
   ]
  },
  {
   "cell_type": "code",
   "execution_count": null,
   "id": "f410301c",
   "metadata": {},
   "outputs": [],
   "source": [
    "feature_importance_df_cr, prob_cr, classes_cr = kfold_lightgbm(\n",
    "    df_cr, num_folds = 3,  class_weight=class_weight, is_unbalance = is_unbalance, stratified=stratified, debug=False)"
   ]
  },
  {
   "cell_type": "code",
   "execution_count": null,
   "id": "806e34c0",
   "metadata": {},
   "outputs": [],
   "source": [
    "evaluate_model(prob_cr, classes_cr)"
   ]
  },
  {
   "cell_type": "markdown",
   "id": "180a6e4e",
   "metadata": {},
   "source": [
    "### Feature importance using RandomForest"
   ]
  },
  {
   "cell_type": "code",
   "execution_count": null,
   "id": "bb5d37c0",
   "metadata": {
    "scrolled": true
   },
   "outputs": [],
   "source": [
    "from sklearn.impute import SimpleImputer\n",
    "train = df[df['TARGET'].notnull()]\n",
    "col = ['TARGET', 'index', 'SK_ID_CURR']\n",
    "train_y_rf = train['TARGET']\n",
    "train.drop(columns = col, inplace = True)\n",
    "train.replace([np.inf, -np.inf], np.nan, inplace=True)\n",
    "imp = SimpleImputer(missing_values=np.nan, strategy='mean')\n",
    "imp = imp.fit(train)\n",
    "train_x_rf = imp.transform(train)"
   ]
  },
  {
   "cell_type": "code",
   "execution_count": null,
   "id": "56b3a669",
   "metadata": {},
   "outputs": [],
   "source": [
    "from sklearn.ensemble import RandomForestClassifier\n",
    "\n",
    "forest = RandomForestClassifier(random_state=0)\n",
    "forest.fit(train_x_rf, train_y_rf)"
   ]
  },
  {
   "cell_type": "code",
   "execution_count": null,
   "id": "7e1a355f",
   "metadata": {},
   "outputs": [],
   "source": [
    "import time\n",
    "\n",
    "start_time = time.time()\n",
    "importances = forest.feature_importances_\n",
    "std = np.std([tree.feature_importances_ for tree in forest.estimators_], axis=0)\n",
    "elapsed_time = time.time() - start_time\n",
    "\n",
    "print(f\"Elapsed time to compute the importances: {elapsed_time:.3f} seconds\")"
   ]
  },
  {
   "cell_type": "code",
   "execution_count": null,
   "id": "965e6f6c",
   "metadata": {},
   "outputs": [],
   "source": [
    "importance_df = pd.DataFrame()\n",
    "index = train.columns\n",
    "importance_df[\"feature\"] = index\n",
    "importance_df[\"importance\"] = importances\n",
    "\n",
    "# Display/plot feature importance\n",
    "def display_importances(feature_importance_df_):\n",
    "    cols = feature_importance_df_[[\"feature\", \"importance\"]].groupby(\"feature\").mean().sort_values(by=\"importance\", ascending=False)[:40].index\n",
    "    best_features = feature_importance_df_.loc[feature_importance_df_.feature.isin(cols)]\n",
    "    plt.figure(figsize=(8, 10))\n",
    "    sns.barplot(x=\"importance\", y=\"feature\", data=best_features.sort_values(by=\"importance\", ascending=False))\n",
    "    plt.title('RandomForest Features (avg over folds)')\n",
    "    plt.tight_layout()\n",
    "    plt.savefig('rf_importances01.png')\n",
    "    \n",
    "display_importances(importance_df)"
   ]
  },
  {
   "cell_type": "markdown",
   "id": "fc78241e",
   "metadata": {},
   "source": [
    "## Choice of features "
   ]
  },
  {
   "cell_type": "code",
   "execution_count": null,
   "id": "37f7ef7c",
   "metadata": {},
   "outputs": [],
   "source": [
    "importance_lightgbm = feature_importance_df_cr[feature_importance_df_cr['fold'] == 3].sort_values(by=['importance'],\n",
    "                                                                                                  ascending=False)['feature'][:15]\n",
    "\n",
    "importance_rf = importance_df.sort_values(by=['importance'],\n",
    "                                          ascending=False)['feature'][:15]\n",
    "\n",
    "intersect = importance_rf[importance_rf.isin(importance_lightgbm)]\n",
    "not_intersect = pd.concat([importance_rf[~importance_rf.isin(\n",
    "    importance_lightgbm)], importance_lightgbm[~importance_lightgbm.isin(importance_rf)]])\n",
    "print(\"******** common features in top 15 important features *********\")\n",
    "print(intersect)\n",
    "print(\"********* features in top 15 important features not present in both models *********\")\n",
    "print(not_intersect)"
   ]
  },
  {
   "cell_type": "markdown",
   "id": "bb03e5b0",
   "metadata": {},
   "source": [
    "* The features that are selected to built the final model are as follows : \n",
    " * DAYS_BIRTH: Client's age in days at the time of application\n",
    " * DAYS_EMPLOYED: How many days before the application the person started current employment\n",
    " * DAYS_ID_PUBLISH: How many days before the application did client change the identity document with which he applied for the loan\n",
    " * EXT_SOURCE_X: Normalized score from external data source\n",
    " * PAYMENT_RATE: (AMT_ANNUITY / AMT_CREDIT) Payment rate for application\n",
    " * INSTAL_DPD_MEAN: (DPD : DAYS PAYMENT DUE, 0 means payment on time, x means the borrower paid x days after the payment was due) Average DPD for previous installments with home credit \n",
    " * ANNUITY_INCOME_PERC: (AMT_ANNUITY / AMT_INCOME_TOTAL) Annuity expressed as a percentage of total income \n",
    " * BURO_DAYS_CREDIT_MEAN: Date of last credit with bureau, expressed as number of days before today (deleted) "
   ]
  },
  {
   "cell_type": "code",
   "execution_count": 12,
   "id": "94f37c70",
   "metadata": {},
   "outputs": [],
   "source": [
    "features_select = [\"SK_ID_CURR\", \"EXT_SOURCE_1\", \"EXT_SOURCE_2\", \"EXT_SOURCE_3\",\n",
    "                   \"DAYS_EMPLOYED\", \"DAYS_BIRTH\", \"DAYS_ID_PUBLISH\", \"PAYMENT_RATE\", \"INSTAL_DPD_MEAN\", \"ANNUITY_INCOME_PERC\"]\n",
    "df_final = df[features_select + [\"TARGET\"]]"
   ]
  },
  {
   "cell_type": "markdown",
   "id": "5eeac74a",
   "metadata": {},
   "source": [
    "## Building the pipeline"
   ]
  },
  {
   "cell_type": "code",
   "execution_count": 13,
   "id": "fdc2e165",
   "metadata": {},
   "outputs": [],
   "source": [
    "LGBM_params = {\n",
    " 'class_weight' : 'balanced',\n",
    " 'is_unbalance': False,\n",
    "'nthread' : 4,\n",
    "   'n_estimators' : 10000,\n",
    "   'learning_rate' : 0.02,\n",
    "   'num_leaves' : 34,\n",
    "   'colsample_bytree' : 0.9497036,\n",
    "   'subsample' : 0.8715623,\n",
    "   'max_depth' : 8,\n",
    "   'reg_alpha' : 0.041545473,\n",
    "   'reg_lambda' : 0.0735294,\n",
    "   'min_split_gain' : 0.0222415,\n",
    "   'min_child_weight' : 39.3259775,\n",
    "   'silent' : -1,\n",
    "   'verbose' : -1}"
   ]
  },
  {
   "cell_type": "code",
   "execution_count": 14,
   "id": "c11c7ecc",
   "metadata": {
    "scrolled": true
   },
   "outputs": [
    {
     "name": "stderr",
     "output_type": "stream",
     "text": [
      "/Users/nihal/Documents/Openclassrooms/Projets/P7/OC_P7/.venv/lib/python3.10/site-packages/lightgbm/sklearn.py:598: UserWarning: 'silent' argument is deprecated and will be removed in a future release of LightGBM. Pass 'verbose' parameter via keyword arguments instead.\n",
      "  _log_warning(\"'silent' argument is deprecated and will be removed in a future release of LightGBM. \"\n",
      "/Users/nihal/Documents/Openclassrooms/Projets/P7/OC_P7/.venv/lib/python3.10/site-packages/lightgbm/sklearn.py:726: UserWarning: 'early_stopping_rounds' argument is deprecated and will be removed in a future release of LightGBM. Pass 'early_stopping()' callback via 'callbacks' argument instead.\n",
      "  _log_warning(\"'early_stopping_rounds' argument is deprecated and will be removed in a future release of LightGBM. \"\n",
      "/Users/nihal/Documents/Openclassrooms/Projets/P7/OC_P7/.venv/lib/python3.10/site-packages/lightgbm/sklearn.py:736: UserWarning: 'verbose' argument is deprecated and will be removed in a future release of LightGBM. Pass 'log_evaluation()' callback via 'callbacks' argument instead.\n",
      "  _log_warning(\"'verbose' argument is deprecated and will be removed in a future release of LightGBM. \"\n"
     ]
    },
    {
     "name": "stdout",
     "output_type": "stream",
     "text": [
      "[200]\tvalid_0's auc: 0.622011\tvalid_0's binary_logloss: 0.459098\tvalid_1's auc: 0.614641\tvalid_1's binary_logloss: 0.459789\n"
     ]
    },
    {
     "name": "stderr",
     "output_type": "stream",
     "text": [
      "/Users/nihal/Documents/Openclassrooms/Projets/P7/OC_P7/.venv/lib/python3.10/site-packages/lightgbm/sklearn.py:598: UserWarning: 'silent' argument is deprecated and will be removed in a future release of LightGBM. Pass 'verbose' parameter via keyword arguments instead.\n",
      "  _log_warning(\"'silent' argument is deprecated and will be removed in a future release of LightGBM. \"\n",
      "/Users/nihal/Documents/Openclassrooms/Projets/P7/OC_P7/.venv/lib/python3.10/site-packages/lightgbm/sklearn.py:726: UserWarning: 'early_stopping_rounds' argument is deprecated and will be removed in a future release of LightGBM. Pass 'early_stopping()' callback via 'callbacks' argument instead.\n",
      "  _log_warning(\"'early_stopping_rounds' argument is deprecated and will be removed in a future release of LightGBM. \"\n",
      "/Users/nihal/Documents/Openclassrooms/Projets/P7/OC_P7/.venv/lib/python3.10/site-packages/lightgbm/sklearn.py:736: UserWarning: 'verbose' argument is deprecated and will be removed in a future release of LightGBM. Pass 'log_evaluation()' callback via 'callbacks' argument instead.\n",
      "  _log_warning(\"'verbose' argument is deprecated and will be removed in a future release of LightGBM. \"\n"
     ]
    },
    {
     "name": "stdout",
     "output_type": "stream",
     "text": [
      "[200]\tvalid_0's auc: 0.56933\tvalid_0's binary_logloss: 0.414973\tvalid_1's auc: 0.571308\tvalid_1's binary_logloss: 0.41503\n"
     ]
    },
    {
     "name": "stderr",
     "output_type": "stream",
     "text": [
      "/Users/nihal/Documents/Openclassrooms/Projets/P7/OC_P7/.venv/lib/python3.10/site-packages/lightgbm/sklearn.py:598: UserWarning: 'silent' argument is deprecated and will be removed in a future release of LightGBM. Pass 'verbose' parameter via keyword arguments instead.\n",
      "  _log_warning(\"'silent' argument is deprecated and will be removed in a future release of LightGBM. \"\n",
      "/Users/nihal/Documents/Openclassrooms/Projets/P7/OC_P7/.venv/lib/python3.10/site-packages/lightgbm/sklearn.py:726: UserWarning: 'early_stopping_rounds' argument is deprecated and will be removed in a future release of LightGBM. Pass 'early_stopping()' callback via 'callbacks' argument instead.\n",
      "  _log_warning(\"'early_stopping_rounds' argument is deprecated and will be removed in a future release of LightGBM. \"\n",
      "/Users/nihal/Documents/Openclassrooms/Projets/P7/OC_P7/.venv/lib/python3.10/site-packages/lightgbm/sklearn.py:736: UserWarning: 'verbose' argument is deprecated and will be removed in a future release of LightGBM. Pass 'log_evaluation()' callback via 'callbacks' argument instead.\n",
      "  _log_warning(\"'verbose' argument is deprecated and will be removed in a future release of LightGBM. \"\n"
     ]
    },
    {
     "name": "stdout",
     "output_type": "stream",
     "text": [
      "[200]\tvalid_0's auc: 0.609972\tvalid_0's binary_logloss: 0.441154\tvalid_1's auc: 0.612624\tvalid_1's binary_logloss: 0.441105\n"
     ]
    }
   ],
   "source": [
    "from sklearn.pipeline import Pipeline\n",
    "pipe = Pipeline([('scaler', preprocessing.StandardScaler()),\n",
    "                              ('regressor', LGBMClassifier(**LGBM_params))])\n",
    "folds = StratifiedKFold(n_splits= 3, shuffle=True, random_state=1001)\n",
    "feats = [f for f in df_final.columns if f not in ['TARGET','SK_ID_CURR']]\n",
    "\n",
    "train_df = df_final[df_final['TARGET'].notnull()]\n",
    "test_df = df_final[df_final['TARGET'].isnull()]\n",
    " \n",
    "for n_fold, (train_idx, valid_idx) in enumerate(folds.split(train_df[feats], train_df['TARGET'])):\n",
    "    train_x, train_y = train_df[feats].iloc[train_idx], train_df['TARGET'].iloc[train_idx]\n",
    "    valid_x, valid_y = train_df[feats].iloc[valid_idx], train_df['TARGET'].iloc[valid_idx]\n",
    "    \n",
    "    pipe.fit(train_x, train_y, regressor__eval_set=[(train_x, train_y), (valid_x, valid_y)],\n",
    "    regressor__eval_metric= 'auc', regressor__verbose= 200, regressor__early_stopping_rounds= 200)"
   ]
  },
  {
   "cell_type": "code",
   "execution_count": 15,
   "id": "4fdd7111",
   "metadata": {},
   "outputs": [
    {
     "name": "stderr",
     "output_type": "stream",
     "text": [
      "/Users/nihal/Documents/Openclassrooms/Projets/P7/OC_P7/.venv/lib/python3.10/site-packages/sklearn/base.py:450: UserWarning: X does not have valid feature names, but StandardScaler was fitted with feature names\n",
      "  warnings.warn(\n"
     ]
    },
    {
     "name": "stdout",
     "output_type": "stream",
     "text": [
      "score : 0.6873664664544221\n"
     ]
    },
    {
     "name": "stderr",
     "output_type": "stream",
     "text": [
      "/Users/nihal/Documents/Openclassrooms/Projets/P7/OC_P7/.venv/lib/python3.10/site-packages/sklearn/base.py:450: UserWarning: X does not have valid feature names, but StandardScaler was fitted with feature names\n",
      "  warnings.warn(\n",
      "/Users/nihal/Documents/Openclassrooms/Projets/P7/OC_P7/.venv/lib/python3.10/site-packages/sklearn/base.py:450: UserWarning: X does not have valid feature names, but StandardScaler was fitted with feature names\n",
      "  warnings.warn(\n"
     ]
    },
    {
     "name": "stdout",
     "output_type": "stream",
     "text": [
      "******************** Full AUC score ***********************\n",
      "Full AUC score 0.750880\n",
      "\n",
      "******************** Heatmap ***********************\n"
     ]
    },
    {
     "data": {
      "image/png": "[encoded data removed]",
      "text/plain": [
       "<Figure size 432x288 with 1 Axes>"
      ]
     },
     "metadata": {
      "needs_background": "light"
     },
     "output_type": "display_data"
    },
    {
     "name": "stdout",
     "output_type": "stream",
     "text": [
      "\n",
      "******************** Classification report ***********************\n",
      "                 precision    recall  f1-score   support\n",
      "\n",
      "  credit worthy       0.96      0.69      0.80    282682\n",
      "credit unworthy       0.16      0.69      0.26     24825\n",
      "\n",
      "       accuracy                           0.69    307507\n",
      "      macro avg       0.56      0.69      0.53    307507\n",
      "   weighted avg       0.90      0.69      0.76    307507\n",
      "\n"
     ]
    }
   ],
   "source": [
    "score_pip = pipe.score(train_df[feats].values, train_df['TARGET'])\n",
    "print(\"score : {}\".format(score_pip))\n",
    "prob_pipe = pipe.predict_proba(train_df[feats].values)[:,1]\n",
    "class_pipe = pipe.predict(train_df[feats].values)\n",
    "evaluate_model(prob_pipe, class_pipe)"
   ]
  },
  {
   "cell_type": "code",
   "execution_count": 23,
   "id": "271897e0",
   "metadata": {},
   "outputs": [],
   "source": [
    "df[\"DPD_BOOL\"] = (df[\"INSTAL_DPD_MEAN\"]==0)"
   ]
  },
  {
   "cell_type": "code",
   "execution_count": 24,
   "id": "b883e4ac",
   "metadata": {},
   "outputs": [],
   "source": [
    "features_select = [\"SK_ID_CURR\", \"EXT_SOURCE_1\", \"EXT_SOURCE_2\", \"EXT_SOURCE_3\",\n",
    "                   \"DAYS_EMPLOYED\", \"DAYS_BIRTH\", \"DAYS_ID_PUBLISH\", \"PAYMENT_RATE\", \"ANNUITY_INCOME_PERC\", \"DPD_BOOL\"]\n",
    "df_final = df[features_select + [\"TARGET\"]]"
   ]
  },
  {
   "cell_type": "code",
   "execution_count": 25,
   "id": "3c888201",
   "metadata": {},
   "outputs": [
    {
     "name": "stderr",
     "output_type": "stream",
     "text": [
      "/Users/nihal/Documents/Openclassrooms/Projets/P7/OC_P7/.venv/lib/python3.10/site-packages/lightgbm/sklearn.py:598: UserWarning: 'silent' argument is deprecated and will be removed in a future release of LightGBM. Pass 'verbose' parameter via keyword arguments instead.\n",
      "  _log_warning(\"'silent' argument is deprecated and will be removed in a future release of LightGBM. \"\n",
      "/Users/nihal/Documents/Openclassrooms/Projets/P7/OC_P7/.venv/lib/python3.10/site-packages/lightgbm/sklearn.py:726: UserWarning: 'early_stopping_rounds' argument is deprecated and will be removed in a future release of LightGBM. Pass 'early_stopping()' callback via 'callbacks' argument instead.\n",
      "  _log_warning(\"'early_stopping_rounds' argument is deprecated and will be removed in a future release of LightGBM. \"\n",
      "/Users/nihal/Documents/Openclassrooms/Projets/P7/OC_P7/.venv/lib/python3.10/site-packages/lightgbm/sklearn.py:736: UserWarning: 'verbose' argument is deprecated and will be removed in a future release of LightGBM. Pass 'log_evaluation()' callback via 'callbacks' argument instead.\n",
      "  _log_warning(\"'verbose' argument is deprecated and will be removed in a future release of LightGBM. \"\n"
     ]
    },
    {
     "name": "stdout",
     "output_type": "stream",
     "text": [
      "[LightGBM] [Warning] num_threads is set with nthread=4, will be overridden by n_jobs=-1. Current value: num_threads=-1\n",
      "[200]\tvalid_0's auc: 0.617275\tvalid_0's binary_logloss: 0.391362\tvalid_1's auc: 0.607341\tvalid_1's binary_logloss: 0.392439\n"
     ]
    },
    {
     "name": "stderr",
     "output_type": "stream",
     "text": [
      "/Users/nihal/Documents/Openclassrooms/Projets/P7/OC_P7/.venv/lib/python3.10/site-packages/lightgbm/sklearn.py:598: UserWarning: 'silent' argument is deprecated and will be removed in a future release of LightGBM. Pass 'verbose' parameter via keyword arguments instead.\n",
      "  _log_warning(\"'silent' argument is deprecated and will be removed in a future release of LightGBM. \"\n",
      "/Users/nihal/Documents/Openclassrooms/Projets/P7/OC_P7/.venv/lib/python3.10/site-packages/lightgbm/sklearn.py:726: UserWarning: 'early_stopping_rounds' argument is deprecated and will be removed in a future release of LightGBM. Pass 'early_stopping()' callback via 'callbacks' argument instead.\n",
      "  _log_warning(\"'early_stopping_rounds' argument is deprecated and will be removed in a future release of LightGBM. \"\n",
      "/Users/nihal/Documents/Openclassrooms/Projets/P7/OC_P7/.venv/lib/python3.10/site-packages/lightgbm/sklearn.py:736: UserWarning: 'verbose' argument is deprecated and will be removed in a future release of LightGBM. Pass 'log_evaluation()' callback via 'callbacks' argument instead.\n",
      "  _log_warning(\"'verbose' argument is deprecated and will be removed in a future release of LightGBM. \"\n"
     ]
    },
    {
     "name": "stdout",
     "output_type": "stream",
     "text": [
      "[200]\tvalid_0's auc: 0.6001\tvalid_0's binary_logloss: 0.37798\tvalid_1's auc: 0.602457\tvalid_1's binary_logloss: 0.377667\n"
     ]
    },
    {
     "name": "stderr",
     "output_type": "stream",
     "text": [
      "/Users/nihal/Documents/Openclassrooms/Projets/P7/OC_P7/.venv/lib/python3.10/site-packages/lightgbm/sklearn.py:598: UserWarning: 'silent' argument is deprecated and will be removed in a future release of LightGBM. Pass 'verbose' parameter via keyword arguments instead.\n",
      "  _log_warning(\"'silent' argument is deprecated and will be removed in a future release of LightGBM. \"\n",
      "/Users/nihal/Documents/Openclassrooms/Projets/P7/OC_P7/.venv/lib/python3.10/site-packages/lightgbm/sklearn.py:726: UserWarning: 'early_stopping_rounds' argument is deprecated and will be removed in a future release of LightGBM. Pass 'early_stopping()' callback via 'callbacks' argument instead.\n",
      "  _log_warning(\"'early_stopping_rounds' argument is deprecated and will be removed in a future release of LightGBM. \"\n",
      "/Users/nihal/Documents/Openclassrooms/Projets/P7/OC_P7/.venv/lib/python3.10/site-packages/lightgbm/sklearn.py:736: UserWarning: 'verbose' argument is deprecated and will be removed in a future release of LightGBM. Pass 'log_evaluation()' callback via 'callbacks' argument instead.\n",
      "  _log_warning(\"'verbose' argument is deprecated and will be removed in a future release of LightGBM. \"\n"
     ]
    },
    {
     "name": "stdout",
     "output_type": "stream",
     "text": [
      "[200]\tvalid_0's auc: 0.641809\tvalid_0's binary_logloss: 0.395345\tvalid_1's auc: 0.647701\tvalid_1's binary_logloss: 0.395118\n"
     ]
    }
   ],
   "source": [
    "from sklearn.pipeline import Pipeline\n",
    "pipe = Pipeline([('scaler', preprocessing.StandardScaler()),\n",
    "                              ('regressor', LGBMClassifier(**LGBM_params))])\n",
    "folds = StratifiedKFold(n_splits= 3, shuffle=True, random_state=1001)\n",
    "feats = [f for f in df_final.columns if f not in ['TARGET','SK_ID_CURR']]\n",
    "\n",
    "train_df = df_final[df_final['TARGET'].notnull()]\n",
    "test_df = df_final[df_final['TARGET'].isnull()]\n",
    " \n",
    "for n_fold, (train_idx, valid_idx) in enumerate(folds.split(train_df[feats], train_df['TARGET'])):\n",
    "    train_x, train_y = train_df[feats].iloc[train_idx], train_df['TARGET'].iloc[train_idx]\n",
    "    valid_x, valid_y = train_df[feats].iloc[valid_idx], train_df['TARGET'].iloc[valid_idx]\n",
    "    \n",
    "    pipe.fit(train_x, train_y, regressor__eval_set=[(train_x, train_y), (valid_x, valid_y)],\n",
    "    regressor__eval_metric= 'auc', regressor__verbose= 200, regressor__early_stopping_rounds= 200)"
   ]
  },
  {
   "cell_type": "code",
   "execution_count": 26,
   "id": "1b515820",
   "metadata": {},
   "outputs": [
    {
     "name": "stderr",
     "output_type": "stream",
     "text": [
      "/Users/nihal/Documents/Openclassrooms/Projets/P7/OC_P7/.venv/lib/python3.10/site-packages/sklearn/base.py:450: UserWarning: X does not have valid feature names, but StandardScaler was fitted with feature names\n",
      "  warnings.warn(\n"
     ]
    },
    {
     "name": "stdout",
     "output_type": "stream",
     "text": [
      "score : 0.6859583684273854\n"
     ]
    },
    {
     "name": "stderr",
     "output_type": "stream",
     "text": [
      "/Users/nihal/Documents/Openclassrooms/Projets/P7/OC_P7/.venv/lib/python3.10/site-packages/sklearn/base.py:450: UserWarning: X does not have valid feature names, but StandardScaler was fitted with feature names\n",
      "  warnings.warn(\n",
      "/Users/nihal/Documents/Openclassrooms/Projets/P7/OC_P7/.venv/lib/python3.10/site-packages/sklearn/base.py:450: UserWarning: X does not have valid feature names, but StandardScaler was fitted with feature names\n",
      "  warnings.warn(\n"
     ]
    },
    {
     "name": "stdout",
     "output_type": "stream",
     "text": [
      "******************** Full AUC score ***********************\n",
      "Full AUC score 0.748051\n",
      "\n",
      "******************** Heatmap ***********************\n"
     ]
    },
    {
     "data": {
      "image/png": "[encoded data removed]",
      "text/plain": [
       "<Figure size 432x288 with 1 Axes>"
      ]
     },
     "metadata": {
      "needs_background": "light"
     },
     "output_type": "display_data"
    },
    {
     "name": "stdout",
     "output_type": "stream",
     "text": [
      "\n",
      "******************** Classification report ***********************\n",
      "                 precision    recall  f1-score   support\n",
      "\n",
      "  credit worthy       0.96      0.69      0.80    282682\n",
      "credit unworthy       0.16      0.68      0.26     24825\n",
      "\n",
      "       accuracy                           0.69    307507\n",
      "      macro avg       0.56      0.68      0.53    307507\n",
      "   weighted avg       0.90      0.69      0.76    307507\n",
      "\n"
     ]
    }
   ],
   "source": [
    "score_pip = pipe.score(train_df[feats].values, train_df['TARGET'])\n",
    "print(\"score : {}\".format(score_pip))\n",
    "prob_pipe = pipe.predict_proba(train_df[feats].values)[:,1]\n",
    "class_pipe = pipe.predict(train_df[feats].values)\n",
    "evaluate_model(prob_pipe, class_pipe)"
   ]
  },
  {
   "cell_type": "code",
   "execution_count": 27,
   "id": "931f7f06",
   "metadata": {},
   "outputs": [
    {
     "data": {
      "text/plain": [
       "['pipeline_credit.joblib']"
      ]
     },
     "execution_count": 27,
     "metadata": {},
     "output_type": "execute_result"
    }
   ],
   "source": [
    "import joblib\n",
    "joblib.dump(pipe, 'pipeline_credit.joblib')"
   ]
  },
  {
   "cell_type": "code",
   "execution_count": 28,
   "id": "828baa44",
   "metadata": {},
   "outputs": [
    {
     "name": "stderr",
     "output_type": "stream",
     "text": [
      "/Users/nihal/Documents/Openclassrooms/Projets/P7/OC_P7/.venv/lib/python3.10/site-packages/sklearn/base.py:450: UserWarning: X does not have valid feature names, but StandardScaler was fitted with feature names\n",
      "  warnings.warn(\n",
      "/Users/nihal/Documents/Openclassrooms/Projets/P7/OC_P7/.venv/lib/python3.10/site-packages/mlflow/models/signature.py:129: UserWarning: Hint: Inferred schema contains integer column(s). Integer columns in Python cannot represent missing values. If your input data contains missing values at inference time, it will be encoded as floats and will cause a schema enforcement error. The best way to avoid this problem is to infer the model schema based on a realistic data sample (training dataset) that includes missing values. Alternatively, you can declare integer columns as doubles (float64) whenever these columns may have missing values. See `Handling Integers With Missing Values <https://www.mlflow.org/docs/latest/models.html#handling-integers-with-missing-values>`_ for more details.\n",
      "  inputs = _infer_schema(model_input)\n",
      "/Users/nihal/Documents/Openclassrooms/Projets/P7/OC_P7/.venv/lib/python3.10/site-packages/_distutils_hack/__init__.py:30: UserWarning: Setuptools is replacing distutils.\n",
      "  warnings.warn(\"Setuptools is replacing distutils.\")\n"
     ]
    }
   ],
   "source": [
    "class SklearnModelWrapper(mlflow.pyfunc.PythonModel):\n",
    "    def __init__(self, model):\n",
    "        self.model = model\n",
    "    \n",
    "    def predict(self, context, model_input):\n",
    "        return (self.model.predict_proba(model_input)[:,1]*100).astype(int)\n",
    "\n",
    "\n",
    "wrappedModel = SklearnModelWrapper(pipe)\n",
    "from mlflow.models.signature import infer_signature\n",
    "#signature = infer_signature(train_df[feats], pipe.predict_proba(train_df[feats].values))\n",
    "signature = infer_signature(train_df[feats], wrappedModel.predict(None, train_df[feats].values))\n",
    "#signature = infer_signature(train_df[feats], train_df['TARGET'])\n",
    "conda_env = {\n",
    "    \"channels\": [\"conda-forge\"],\n",
    "    \"dependencies\": [\"python=3.8.8\",\n",
    "                    \"pip\",\n",
    "                    {\"pip\": [\"mlflow\",\n",
    "                            \"cloudpickle==1.6.0\",\n",
    "                           \"psutil==5.8.0\",\n",
    "                            \"scikit-learn==0.24.1\",\n",
    "                            \"typing-extensions==3.10.0.2\"]}],\n",
    "    \"name\": \"mlflow-env\"\n",
    "    }\n",
    "#mlflow.sklearn.save_model(pipe, 'mlflow_model_proba', signature=signature)\n",
    "mlflow.pyfunc.save_model(\n",
    "        \"mlflow_model_pyfunc\", \n",
    "        python_model=wrappedModel, \n",
    "        signature=signature,\n",
    "        conda_env=conda_env)"
   ]
  }
 ],
 "metadata": {
  "kernelspec": {
   "display_name": ".venv",
   "language": "python",
   "name": ".venv"
  },
  "language_info": {
   "codemirror_mode": {
    "name": "ipython",
    "version": 3
   },
   "file_extension": ".py",
   "mimetype": "text/x-python",
   "name": "python",
   "nbconvert_exporter": "python",
   "pygments_lexer": "ipython3",
   "version": "3.10.4"
  }
 },
 "nbformat": 4,
 "nbformat_minor": 5
}
